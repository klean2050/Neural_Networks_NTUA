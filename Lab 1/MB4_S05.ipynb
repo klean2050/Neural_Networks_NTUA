{
 "cells": [
  {
   "cell_type": "markdown",
   "metadata": {
    "colab_type": "text",
    "id": "Ow7tTLt0tvmK"
   },
   "source": [
    "# Neural Networks ECE NTUA Course 2019-20 ~ Team M.B.4\n",
    "## Lab Assingment #1: Classification - Study of UCI Datasets - Small (S05)"
   ]
  },
  {
   "cell_type": "markdown",
   "metadata": {
    "colab_type": "text",
    "id": "A1G_zo9MtvmL"
   },
   "source": [
    "### A. The Team\n",
    "* Αβραμίδης Κλεάνθης   ~ 03115117\n",
    "* Κρατημένος Άγγελος   ~ 03115025\n",
    "* Πανίδης Κωνσταντίνος ~ 03113602"
   ]
  },
  {
   "cell_type": "markdown",
   "metadata": {
    "colab_type": "text",
    "id": "HSDaHyfUtvmN"
   },
   "source": [
    "### B. The Dataset\n"
   ]
  },
  {
   "cell_type": "markdown",
   "metadata": {
    "colab_type": "text",
    "id": "zYugQ6NQtvmO"
   },
   "source": [
    "#### 1. Introduction\n",
    "\n",
    "Το dataset δημιουργήθηκε σε ένα πανεπιστημιακό νοσοκομείο της Πορτογαλίας και περιέχει διάφορα δημογραφικά, εργαστηριακά και άλλα χαρακτηριστικά και ρίσκη σχετικά με την Ιατρική. Τα δεδομένα συλλέχθηκαν από 165 ασθενείς που είχαν διαγνωστεί με HCC. Σύμφωνα με το documentation, κάθε δείγμα περιέχει 49 χαρακτηριστικά, επιλεγμένα σύμφωνα με το *EASL-EORTC (European Association for the Study of the Liver - European Organisation for Research and Treatment of Cancer) Clinical Practice Guidelines*, που είναι το state-of-the-art στη διαχείριση του HCC. Πρόκειται για ένα ετερογενές σύνολο δεδομένων, με 23 ποσοτικές και 23 ποιοτικές μεταβλητές. Συνολικά, οι απουσιάζουσες τιμές εκπροσωπούν το 10.22% του συνόλου των τιμών και μόνο 8 ασθενείες είχαν πλήρεις πληροφορίες. Τα labels είναι η επιβίωση μέχρι και διάστημα ενός έτους και κωδικοποείται με 0 (die) και 1 (lives). Υπάρχει σε ένα βαθμό class-imbalance (102 out of 165 cases alive). Περισσότερα στο *Santos et al. \"A new cluster-based oversampling method for improving survival prediction of hepatocellular carcinoma patients\", Journal of biomedical informatics, 58, 49-59, 2015*. Παρακάτω θα επιβεβαιώσουμε αυτά τα στοιχεία."
   ]
  },
  {
   "cell_type": "code",
   "execution_count": 27,
   "metadata": {
    "colab": {},
    "colab_type": "code",
    "id": "eZCq8E9qtvmQ"
   },
   "outputs": [],
   "source": [
    "import pandas as pd, numpy as np, matplotlib.pyplot as plt, time\n",
    "from sklearn.model_selection import train_test_split\n",
    "from sklearn.impute import SimpleImputer\n",
    "from imblearn.over_sampling import RandomOverSampler\n",
    "from sklearn.dummy import DummyClassifier\n",
    "from sklearn.neighbors import KNeighborsClassifier\n",
    "from sklearn.metrics import accuracy_score,classification_report,confusion_matrix\n",
    "from sklearn.metrics import precision_recall_fscore_support,f1_score\n",
    "from sklearn.feature_selection import VarianceThreshold\n",
    "from sklearn import preprocessing\n",
    "from sklearn.decomposition import PCA"
   ]
  },
  {
   "cell_type": "markdown",
   "metadata": {
    "colab_type": "text",
    "id": "nMkEreXBtvmP"
   },
   "source": [
    "#### 2. Samples & Features"
   ]
  },
  {
   "cell_type": "code",
   "execution_count": 2,
   "metadata": {
    "colab": {
     "base_uri": "https://localhost:8080/",
     "height": 34
    },
    "colab_type": "code",
    "id": "CmksyFOdtvmU",
    "outputId": "6a20c55e-069b-4380-c9ce-5c9b438e4cc8"
   },
   "outputs": [
    {
     "name": "stdout",
     "output_type": "stream",
     "text": [
      "The Dataset contains 165 samples, 49 features and a label.\n"
     ]
    }
   ],
   "source": [
    "data = pd.read_csv(\"hcc-data.txt\",header=None).to_numpy()\n",
    "print(\"The Dataset contains\",data.shape[0],\"samples,\",data.shape[1]-1,\"features and a label.\")"
   ]
  },
  {
   "cell_type": "markdown",
   "metadata": {
    "colab_type": "text",
    "id": "PWzfv3V-tvmX"
   },
   "source": [
    "Προκύπτει ότι το Dataset αποτελείται από 165 δείγματα, καθένα εκ των οποίων έχει 49 χαρακτηριστικά συν την binary ετικέτα του. Στη συνέχεια θα εξετάσουμε το είδος των χαρακτηριστικών μέσω ενός δείγματος που δεν έχει απουσιάζουσες τιμές:"
   ]
  },
  {
   "cell_type": "code",
   "execution_count": 3,
   "metadata": {
    "colab": {
     "base_uri": "https://localhost:8080/",
     "height": 105
    },
    "colab_type": "code",
    "id": "kZvoxT4-tvmY",
    "outputId": "b8b94cfa-b473-4182-cd6b-b4da49e987d2"
   },
   "outputs": [
    {
     "name": "stdout",
     "output_type": "stream",
     "text": [
      "Data types of features: {<class 'int'>, <class 'str'>}\n",
      "Inspection of features: [1 '0' 1 '1' '0' '1' '0' 1 '0' '1' '0' '0' '0' '1' '1' '0' '0' '0' '0' '1'\n",
      " '0' '1' '1' 78 '50' '50' 2 '1' '2' '0.96' '5.8' '8.9' '79.8' '8.4' '472'\n",
      " '3.3' '0.4' '58' '68' '202' '109' '7' '2.1' '5' '13' '0.1' '28' '6' '16'\n",
      " 1]\n"
     ]
    }
   ],
   "source": [
    "clean = [item for item in range(len(data)) if '?' not in data[item]]\n",
    "print(\"Data types of features:\",set([type(feature) for feature in data[clean[0]]]))\n",
    "print(\"Inspection of features:\",data[clean[0]])"
   ]
  },
  {
   "cell_type": "markdown",
   "metadata": {
    "colab_type": "text",
    "id": "YmVDJHmVtvmc"
   },
   "source": [
    "Παρατηρούμε πως όλα τα χαρακτηριστικά λαμβάνουν αριθμητικές float τιμές και δεν υπάρχουν μη διατεταγμένες μορφές. Ωστόσο, τα στοιχεία είναι καταχωρημένα με τύπους int και str. Τροποποιούμε το Dataset ώστε όλα τα στοιχεία μας να είναι τύπου float. Ειδικά για τις απουσιάζουσες τιμές, αντικαθιστούμε το '?' με την τιμή -1, λαμβάνοντας υπόψη ότι όλα τα χαρακτηριστικά λαμβάνουν θετικές τιμές."
   ]
  },
  {
   "cell_type": "code",
   "execution_count": 4,
   "metadata": {
    "colab": {
     "base_uri": "https://localhost:8080/",
     "height": 123
    },
    "colab_type": "code",
    "id": "zi2--nP2tvmd",
    "outputId": "0b9b00bc-203e-49f5-e5f4-2d30a0679cbf"
   },
   "outputs": [
    {
     "name": "stdout",
     "output_type": "stream",
     "text": [
      "Before: [0 '?' 0 '0' '0' '0' '1' 1 '?' '?' '1' '0' '0' '1' '0' '0' '0' '1' '0' '0'\n",
      " '0' '0' '1' 62 '0' '?' 0 '1' '1' '?' '?' '?' '?' '?' '?' '?' '?' '?' '?'\n",
      " '?' '?' '?' '?' '1' '1.8' '?' '?' '?' '?' 1]\n",
      "After: [0 -1 0 '0' '0' '0' '1' 1 -1 -1 '1' '0' '0' '1' '0' '0' '0' '1' '0' '0'\n",
      " '0' '0' '1' 62 '0' -1 0 '1' '1' -1 -1 -1 -1 -1 -1 -1 -1 -1 -1 -1 -1 -1 -1\n",
      " '1' '1.8' -1 -1 -1 -1 1]\n"
     ]
    }
   ],
   "source": [
    "print(\"Before:\",data[1])\n",
    "data = np.where(data=='?',-1,data)\n",
    "print(\"After:\",data[1])"
   ]
  },
  {
   "cell_type": "markdown",
   "metadata": {
    "colab_type": "text",
    "id": "P3_Qk7s-tvmg"
   },
   "source": [
    "#### 3. Documentation\n",
    "\n",
    "Το αρχείο δεδομένων δεν περιέχει επικεφαλίδες, ως εκ τούτου αρκούμαστε στην περιγραφή που περιέχεται στο συνοδευτικό αρχείο και παρουσιάστηκε παραπάνω. Για το λόγο αυτό χρησιμοποιήθηκε στο διάβασμα του αρχείου δεδομένων η παράμετρος\n",
    "```python\n",
    "header = None\n",
    "```\n",
    "καθώς σε αντίθετη παρίπτωση το πρώτο δείγμα θα είχε διαβαστεί ως επικεφαλίδα. Το αρχείο δεν περιέχει αρίθμηση γραμμών, ωστόσο αυτή λαμβάνεται άμεσα από την οργάνωση του αρχείου δεδομένων σε μορφή πίνακα."
   ]
  },
  {
   "cell_type": "markdown",
   "metadata": {
    "colab_type": "text",
    "id": "uRbfWp-htvmh"
   },
   "source": [
    "#### 4. Labels\n",
    "\n",
    "Σύμφωνα με το documentation, οι ετικέτες των δειγμάτων λαμβάνουν τις τιμές 0 (...) ή 1 (...) και βρίσκονται στην τελευταία κολόνα του πίνακα ```data```:"
   ]
  },
  {
   "cell_type": "code",
   "execution_count": 5,
   "metadata": {
    "colab": {
     "base_uri": "https://localhost:8080/",
     "height": 34
    },
    "colab_type": "code",
    "id": "qznJvk_Ltvmj",
    "outputId": "e8f4c0d5-4d63-4f1f-aed3-27ae0c6bd726"
   },
   "outputs": [
    {
     "name": "stdout",
     "output_type": "stream",
     "text": [
      "Labels of the Dataset: {0, 1}\n"
     ]
    }
   ],
   "source": [
    "labels = data[:,-1]\n",
    "feats  = data[:,:-1]\n",
    "print(\"Labels of the Dataset:\",set(labels))"
   ]
  },
  {
   "cell_type": "markdown",
   "metadata": {
    "colab_type": "text",
    "id": "pnsAkGhVtvmm"
   },
   "source": [
    "#### 5. Pre-Processing\n",
    "\n",
    "Δεν απαιτήθηκε κάποια προσαρμογή των input files. Ωστόσο απαιτείται κατάλληλη διαχείριση των τύπων δεδομένων και των απουσιάζουσων τιμών."
   ]
  },
  {
   "cell_type": "markdown",
   "metadata": {
    "colab_type": "text",
    "id": "T75xi6xktvmn"
   },
   "source": [
    "#### 6. Missing Values\n",
    "\n",
    "Σύμφωνα με το documentation, μόνο 8 δείγματα είναι πλήρη χαρακτηριστικών, ενώ συνολικά οι μη διαθέσιμες τιμές εκπροσωπούν περίπου το 10% των τιμών στο Dataset. Καταρχάς επαληθεύουμε τα ανωτέρω στοιχεία:"
   ]
  },
  {
   "cell_type": "code",
   "execution_count": 6,
   "metadata": {
    "colab": {
     "base_uri": "https://localhost:8080/",
     "height": 52
    },
    "colab_type": "code",
    "id": "9bQP8C6Stvmo",
    "outputId": "9758ed93-7fd3-4b36-bc08-a8e760d1d6bd"
   },
   "outputs": [
    {
     "name": "stdout",
     "output_type": "stream",
     "text": [
      "There are 8 samples without missing values.\n",
      "826 out of 8085 values in the Dataset are missing. That is 10.216 %\n"
     ]
    }
   ],
   "source": [
    "dirty = [item.tolist().count(-1) for item in feats]\n",
    "total = len(feats)*len(feats[0])\n",
    "\n",
    "print(\"There are\",len(clean),\"samples without missing values.\")\n",
    "print(sum(dirty),\"out of\",total,\"values in the Dataset are missing. That is\",np.round(100*sum(dirty)/total,3),\"%\")"
   ]
  },
  {
   "cell_type": "markdown",
   "metadata": {
    "colab_type": "text",
    "id": "Zkf8al7Vtvmr"
   },
   "source": [
    "Η πιο απλή τεχνική διαχείρισης αυτών των τιμών είναι η αγνόηση των αντίστοιχων δειγμάτων, ωστόσο στην περίπτωσή μας που η συντριπτική πλειοψηφία των δειγμάτων έχει απουσιάζουσες τιμές, η λύση αυτή δεν είναι λειτουργική. Μια άλλη τεχνική είναι η αγνόηση συγκεκριμένων features, που στα περισσότερα δείγματα απουσιάζουν και ως εκ τούτου δεν θα έχουν σημαντική συνεισφορά στο classification:"
   ]
  },
  {
   "cell_type": "code",
   "execution_count": 7,
   "metadata": {
    "colab": {
     "base_uri": "https://localhost:8080/",
     "height": 34
    },
    "colab_type": "code",
    "id": "ld9ypkaatvms",
    "outputId": "9c48680c-e8c8-4478-bb40-eb32c5cc2e96"
   },
   "outputs": [
    {
     "name": "stdout",
     "output_type": "stream",
     "text": [
      "[]\n"
     ]
    }
   ],
   "source": [
    "rub_feats = np.zeros((50,1))\n",
    "for feature in range(len(feats[0])): rub_feats[feature] = sum(feats[:,feature]==-1)\n",
    "print(rub_feats[rub_feats>len(feats)/2])"
   ]
  },
  {
   "cell_type": "markdown",
   "metadata": {
    "colab_type": "text",
    "id": "6s4V8mDntvmv"
   },
   "source": [
    "Βλέπουμε πως κανένα χαρακτηριστικό δεν απουσιάζει σε πάνω από τα μισά δείγματα, επομένως αγνοώντας κάποιο, σίγουρα θα απωλέσουμε χρήσιμη πληροφορία. Εφόσον λοιπόν δε μπορούμε να αγνοήσουμε τις απουσιάζουσες τιμές, θα πρέπει να τις αντικαταστήσουμε κατάλληλα. Θα αξιοποιήσουμε τον Imputer της Scikit-learn προκειμένου να αντικατασταθούν οι απουσιάζουσες τιμές με τις μέσες τιμές που εμφανίζονται στο εκάστοτε feature, αφού όμως προηγηθεί ο διαχωρισμός στο Βήμα 8. Κι αυτό γιατί, στην αντίθετη περίπτωση, θα υπήρχε η στρέβλωση του να επιδρούν στο train set τιμές από δείγματα που θα καταλήξουν εν τέλει στο test set."
   ]
  },
  {
   "cell_type": "markdown",
   "metadata": {
    "colab_type": "text",
    "id": "dTtdAdKQtvmw"
   },
   "source": [
    "#### 7. Balance\n",
    "\n",
    "Λόγω της binary φύσης των labels, μπορούμε να εκτιμήσουμε απευθείας πόσα στοιχεία ανήκουν σε κάθε κλάση μέσω της συνάρτησης sum(), άρα και να αποφανθούμε περί της ισορροπίας του Dataset, διαιρώντας με τον συνολικό αριθμό των δειγμάτων:"
   ]
  },
  {
   "cell_type": "code",
   "execution_count": 8,
   "metadata": {
    "colab": {
     "base_uri": "https://localhost:8080/",
     "height": 52
    },
    "colab_type": "code",
    "id": "LFHW8kMGtvmx",
    "outputId": "45b4b296-114c-478a-bd01-2af3a6f532ff"
   },
   "outputs": [
    {
     "name": "stdout",
     "output_type": "stream",
     "text": [
      "102 samples are alive and 63 are dead\n",
      "The balance of the Dataset is 61.82 % in favor of the alive samples.\n"
     ]
    }
   ],
   "source": [
    "print(sum(labels),\"samples are alive and\",len(labels)-sum(labels),\"are dead\")\n",
    "print(\"The balance of the Dataset is\",round(100*sum(labels)/len(labels),2),\"% in favor of the alive samples.\")"
   ]
  },
  {
   "cell_type": "markdown",
   "metadata": {
    "colab_type": "text",
    "id": "7lTtXVUjtvm0"
   },
   "source": [
    "Είναι εμφανές πως τα δεδομένα κλίνουν κατά ένα βαθμό στην κλάση 1, συνεπώς τα δεδομένα μας δεν είναι καλώς ισορροπημένα. Παρότι το ποσοστό παραμένει μικρότερο από 2/3 και θα μπορούσαμε να μην κάνουμε κάτι επιπλέον, επιλέγουμε να εφαρμόσουμε oversampling, θεωρώντας ότι όσο πιο ισορροπημένο είναι το dataset, τόσο καλύτερα θα είναι τα αποτελέσματα. Για να γίνει αυτό θα προηγηθεί το split και να διορθωθούν τα missing values."
   ]
  },
  {
   "cell_type": "markdown",
   "metadata": {
    "colab_type": "text",
    "id": "sAuTV-Lltvm1"
   },
   "source": [
    "#### 8. Train & Test Set\n",
    "\n",
    "Σαν τελευταίο βήμα επεξεργασίας, θα χωρίσουμε τα δεδομένα σε train και test μέσω της αντίστοιχης συνάρτησης *train_test_split()* της Scikit-learn. Αντίστοιχα χωρίζουμε και τα labels. Επιλέγουμε σχήμα 20% για το test set:"
   ]
  },
  {
   "cell_type": "code",
   "execution_count": 9,
   "metadata": {
    "colab": {},
    "colab_type": "code",
    "id": "wsC-qQ4atvm2"
   },
   "outputs": [],
   "source": [
    "x_train,x_test,y_train,y_test = train_test_split(feats,labels.astype(int),test_size=0.2,random_state=42)"
   ]
  },
  {
   "cell_type": "markdown",
   "metadata": {
    "colab_type": "text",
    "id": "WPUmmsZatvm5"
   },
   "source": [
    "Μπορούμε τώρα να προχωρήσουμε στην αντικατάσταση των missing values:"
   ]
  },
  {
   "cell_type": "code",
   "execution_count": 10,
   "metadata": {
    "colab": {
     "base_uri": "https://localhost:8080/",
     "height": 283
    },
    "colab_type": "code",
    "id": "O7rEDVKAtvm6",
    "outputId": "0229e7fb-6d0c-4ded-85f2-f6a55953d79a"
   },
   "outputs": [
    {
     "name": "stdout",
     "output_type": "stream",
     "text": [
      "Before:\n",
      " [1 -1 0 '0' '0' '0' '1' 1 -1 '1' '1' '0' '0' '1' '0' '0' '0' '0' '1' '0'\n",
      " '0' '0' '1' 57 '0' -1 0 -1 -1 '1.1' '2.9' '16.4' '94.8' '4.6' '94000'\n",
      " '4.1' '1.1' '104' '74' '88' '85' '7.9' '1.05' '1' '5.5' '0.3' -1 -1 -1]\n",
      "\n",
      "After:\n",
      " [    1.       0.62     0.       0.       0.       0.       1.       1.\n",
      "     0.08     1.       1.       0.       0.       1.       0.       0.\n",
      "     0.       0.       1.       0.       0.       0.       1.      57.\n",
      "     0.      22.52     0.       1.18     1.48     1.1      2.9     16.4\n",
      "    94.8      4.6  94000.       4.1      1.1    104.      74.      88.\n",
      "    85.       7.9      1.05     1.       5.5      0.3     84.25    36.29\n",
      "   438.98]\n",
      "\n",
      "Only float items!\n"
     ]
    }
   ],
   "source": [
    "np.set_printoptions(suppress=True)\n",
    "\n",
    "imp = SimpleImputer(missing_values=-1,strategy='mean')\n",
    "# ξεχωριστά ώστε να μην παίρνει πληροφορία το ένα σετ από το άλλο\n",
    "print(\"Before:\\n\",x_train[0],end=\"\\n\\n\")\n",
    "x_train = imp.fit_transform(x_train)\n",
    "x_test  = imp.fit_transform(x_test)\n",
    "print(\"After:\\n\",np.round(x_train[0],2),end=\"\\n\\n\")\n",
    "\n",
    "if (x_train==x_train.astype(float)).all() and (x_test==x_test.astype(float)).all(): print(\"Only float items!\")"
   ]
  },
  {
   "cell_type": "markdown",
   "metadata": {
    "colab_type": "text",
    "id": "hc34Pn7Ttvm9"
   },
   "source": [
    "Κάνουμε τη διαδικασία ξεχωριστά για κάθε σετ και παρατηρούμε πως πλέον όλα τα στοιχεία είναι float. Ως τελευταίο βήμα, θα εφαρμόσουμε oversampling ούτως ώστε να εξισορροπήσουμε το dataset, όπως προείπαμε. Η έννοια του oversampling ειναι πρακτικά η επανάληψη samples από την υπολείπουσα κλάση, ώστε ο λόγος τους να τείνει προς το ιδανικό 50%. Θα εφαρμόσουμε για αυτό το σκοπό την συνάρτηση της Scikit-learn:"
   ]
  },
  {
   "cell_type": "code",
   "execution_count": 11,
   "metadata": {
    "colab": {
     "base_uri": "https://localhost:8080/",
     "height": 34
    },
    "colab_type": "code",
    "id": "BK2Cfb6rtvm-",
    "outputId": "d2d9929a-db64-4da7-9038-0b660dee5deb"
   },
   "outputs": [
    {
     "name": "stdout",
     "output_type": "stream",
     "text": [
      "The balance of the train set is 0.5\n"
     ]
    }
   ],
   "source": [
    "ros = RandomOverSampler(random_state = 0)\n",
    "x_train_resampled, y_train_resampled = ros.fit_sample(x_train,y_train)\n",
    "balance = sum(y_train_resampled)/len(y_train_resampled)\n",
    "print(\"The balance of the train set is\",balance)"
   ]
  },
  {
   "cell_type": "markdown",
   "metadata": {
    "colab_type": "text",
    "id": "C8FfIxoVtvnB"
   },
   "source": [
    "Παρατηρούμε την απευθείας βελτίωση στο λόγο των 2 κλάσεων. Σημειώνουμε πως επιλέγουμε να ισορροπήσουμε μόνο τα δεδομένα εκπαίδευσης, τα οποία είναι και τα μόνα που οφείλουν να είναι ισορροπημένα. Γενικώς αποφεύγουμε οποιαδήποτε περαιτέρω επεξεργασία στα test δεδομένα."
   ]
  },
  {
   "cell_type": "markdown",
   "metadata": {
    "colab_type": "text",
    "id": "fiGsgNdstvnC"
   },
   "source": [
    "### C. Baseline Classification"
   ]
  },
  {
   "cell_type": "markdown",
   "metadata": {
    "colab_type": "text",
    "id": "BNPJOvt4tvnD"
   },
   "source": [
    "#### 1. Classification & Metrics\n",
    "\n",
    "Ορίζουμε μία συνάρτηση που εκπαιδεύει τους dummy classifiers με default τιμές και επιστρέφει σε dictionary τα predictions κάθε ταξινομητή, την ακρίβεια του καθώς και τους χρόνους fit και train:"
   ]
  },
  {
   "cell_type": "code",
   "execution_count": 12,
   "metadata": {
    "colab": {},
    "colab_type": "code",
    "id": "j-9t0-pdtvnH"
   },
   "outputs": [],
   "source": [
    "def DummyClassification(x_train,y_train,x_test,y_test):\n",
    "    \n",
    "    scores, predictions, fit_times, pred_times = {}, {}, {}, {}\n",
    "\n",
    "    ### Initialization ###\n",
    "    \n",
    "    dc_uniform  = DummyClassifier(strategy=\"uniform\")\n",
    "    dc_const_0  = DummyClassifier(strategy=\"constant\",constant=0)\n",
    "    dc_const_1  = DummyClassifier(strategy=\"constant\",constant=1)\n",
    "    dc_stratif  = DummyClassifier(strategy=\"stratified\")\n",
    "    dc_frequent = DummyClassifier(strategy=\"most_frequent\")\n",
    "\n",
    "    ### Fit ###\n",
    "    \n",
    "    start_time = time.time()\n",
    "    dc_uniform.fit(x_train, y_train)\n",
    "    fit_times['uniform'] = time.time()-start_time\n",
    "    \n",
    "    start_time = time.time()\n",
    "    dc_const_0.fit(x_train, y_train)\n",
    "    fit_times['const_0'] = time.time()-start_time\n",
    "    \n",
    "    start_time = time.time()\n",
    "    dc_const_1.fit(x_train, y_train)\n",
    "    fit_times['const_1'] = time.time()-start_time\n",
    "    \n",
    "    start_time = time.time()\n",
    "    dc_stratif.fit(x_train, y_train)\n",
    "    fit_times['stratif'] = time.time()-start_time\n",
    "    \n",
    "    start_time = time.time()\n",
    "    dc_frequent.fit(x_train,y_train)\n",
    "    fit_times['frequent'] = time.time()-start_time\n",
    "    \n",
    "    ### Predict ###\n",
    "    \n",
    "    start_time = time.time()\n",
    "    predictions['uniform']  = dc_uniform.predict(x_test)\n",
    "    pred_times['uniform'] = time.time()-start_time\n",
    "    \n",
    "    start_time = time.time()\n",
    "    predictions['const_0']  = dc_const_0.predict(x_test)\n",
    "    pred_times['const_0'] = time.time()-start_time\n",
    "    \n",
    "    start_time = time.time()\n",
    "    predictions['const_1']  = dc_const_1.predict(x_test)\n",
    "    pred_times['const_1'] = time.time()-start_time\n",
    "    \n",
    "    start_time = time.time()\n",
    "    predictions['stratif']  = dc_stratif.predict(x_test)\n",
    "    pred_times['stratif'] = time.time()-start_time\n",
    "    \n",
    "    start_time = time.time()\n",
    "    predictions['frequent'] = dc_frequent.predict(x_test)\n",
    "    pred_times['frequent'] = time.time()-start_time\n",
    "\n",
    "    ### Score ###\n",
    "    \n",
    "    scores['uniform']  = dc_uniform.score(x_test, y_test)\n",
    "    scores['const_0']  = dc_const_0.score(x_test, y_test)\n",
    "    scores['const_1']  = dc_const_1.score(x_test, y_test)\n",
    "    scores['stratif']  = dc_stratif.score(x_test, y_test)\n",
    "    scores['frequent'] = dc_frequent.score(x_test,y_test)\n",
    "    \n",
    "    return predictions, scores, fit_times, pred_times"
   ]
  },
  {
   "cell_type": "code",
   "execution_count": 28,
   "metadata": {
    "colab": {
     "base_uri": "https://localhost:8080/",
     "height": 763
    },
    "colab_type": "code",
    "id": "Q6Kc3ZXdtvnL",
    "outputId": "d366ad40-4532-42b0-8238-84496b668517",
    "scrolled": false
   },
   "outputs": [
    {
     "name": "stdout",
     "output_type": "stream",
     "text": [
      "Classification Accuracy of Dummy Classifiers for the test set:\n",
      "\n",
      "With uniform strategy: 60.606 %\n",
      "With const_0 strategy: 39.394 %\n",
      "With const_1 strategy: 60.606 %\n",
      "With stratif strategy: 60.606 %\n",
      "With frequent strategy: 60.606 %\n",
      "\n",
      "Confusion Matrices of Dummy Classifiers for the test set:\n",
      "\n",
      "With uniform strategy:\n",
      " [[ 5  8]\n",
      " [11  9]]\n",
      "With const_0 strategy:\n",
      " [[13  0]\n",
      " [20  0]]\n",
      "With const_1 strategy:\n",
      " [[ 0 13]\n",
      " [ 0 20]]\n",
      "With stratif strategy:\n",
      " [[ 4  9]\n",
      " [ 7 13]]\n",
      "With frequent strategy:\n",
      " [[ 0 13]\n",
      " [ 0 20]]\n",
      "\n",
      "Classification Report of uniform strategy:\n",
      "               precision    recall  f1-score   support\n",
      "\n",
      "           0       0.31      0.38      0.34        13\n",
      "           1       0.53      0.45      0.49        20\n",
      "\n",
      "    accuracy                           0.42        33\n",
      "   macro avg       0.42      0.42      0.42        33\n",
      "weighted avg       0.44      0.42      0.43        33\n",
      "\n",
      "\n",
      "Classification Report of const_0 strategy:\n",
      "               precision    recall  f1-score   support\n",
      "\n",
      "           0       0.39      1.00      0.57        13\n",
      "           1       0.00      0.00      0.00        20\n",
      "\n",
      "    accuracy                           0.39        33\n",
      "   macro avg       0.20      0.50      0.28        33\n",
      "weighted avg       0.16      0.39      0.22        33\n",
      "\n",
      "\n",
      "Classification Report of const_1 strategy:\n",
      "               precision    recall  f1-score   support\n",
      "\n",
      "           0       0.00      0.00      0.00        13\n",
      "           1       0.61      1.00      0.75        20\n",
      "\n",
      "    accuracy                           0.61        33\n",
      "   macro avg       0.30      0.50      0.38        33\n",
      "weighted avg       0.37      0.61      0.46        33\n",
      "\n",
      "\n",
      "Classification Report of stratif strategy:\n",
      "               precision    recall  f1-score   support\n",
      "\n",
      "           0       0.36      0.31      0.33        13\n",
      "           1       0.59      0.65      0.62        20\n",
      "\n",
      "    accuracy                           0.52        33\n",
      "   macro avg       0.48      0.48      0.48        33\n",
      "weighted avg       0.50      0.52      0.51        33\n",
      "\n",
      "\n",
      "Classification Report of frequent strategy:\n",
      "               precision    recall  f1-score   support\n",
      "\n",
      "           0       0.00      0.00      0.00        13\n",
      "           1       0.61      1.00      0.75        20\n",
      "\n",
      "    accuracy                           0.61        33\n",
      "   macro avg       0.30      0.50      0.38        33\n",
      "weighted avg       0.37      0.61      0.46        33\n",
      "\n"
     ]
    }
   ],
   "source": [
    "predictions, small_accuracies, _, _ = DummyClassification(x_train,y_train,x_test,y_test)\n",
    "\n",
    "print(\"Classification Accuracy of Dummy Classifiers for the test set:\\n\")\n",
    "for strategy in small_accuracies: print(\"With\",strategy,\"strategy:\",np.round(100*small_accuracies[strategy],3),\"%\")\n",
    "\n",
    "print(\"\\nConfusion Matrices of Dummy Classifiers for the test set:\\n\")\n",
    "for strategy in predictions: print(\"With\",strategy,\"strategy:\\n\",confusion_matrix(y_test,predictions[strategy]))\n",
    "\n",
    "for strategy in predictions:\n",
    "    print(\"\\nClassification Report of\",strategy,\"strategy:\\n\",classification_report(y_test,predictions[strategy]))"
   ]
  },
  {
   "cell_type": "markdown",
   "metadata": {
    "colab_type": "text",
    "id": "oMYfDV9MzWD5"
   },
   "source": [
    "Εκπαιδεύουμε τώρα έναν baseline 1-NN ταξινομητή:"
   ]
  },
  {
   "cell_type": "code",
   "execution_count": 14,
   "metadata": {
    "colab": {
     "base_uri": "https://localhost:8080/",
     "height": 158
    },
    "colab_type": "code",
    "id": "NOa2VJsFtvnO",
    "outputId": "385f9648-fa69-4d76-feee-09a18cb16e98"
   },
   "outputs": [
    {
     "name": "stdout",
     "output_type": "stream",
     "text": [
      "Classification Accuracy of 1-NN: 66.667 %\n",
      "\n",
      "Confusion Matrix of 1-NN:\n",
      " [[ 5  8]\n",
      " [ 3 17]]\n",
      "\n",
      "Classification Report of 1-NN:\n",
      "               precision    recall  f1-score   support\n",
      "\n",
      "           0       0.62      0.38      0.48        13\n",
      "           1       0.68      0.85      0.76        20\n",
      "\n",
      "    accuracy                           0.67        33\n",
      "   macro avg       0.65      0.62      0.62        33\n",
      "weighted avg       0.66      0.67      0.65        33\n",
      "\n"
     ]
    }
   ],
   "source": [
    "knn = KNeighborsClassifier(n_neighbors=1) \n",
    "knn.fit(x_train,y_train)\n",
    "predictions['knn'] = knn.predict(x_test)\n",
    "small_accuracies['knn'] = knn.score(x_test,y_test)\n",
    "\n",
    "print(\"Classification Accuracy of 1-NN:\",np.round(100*small_accuracies['knn'],3),\"%\")\n",
    "print(\"\\nConfusion Matrix of 1-NN:\\n\",confusion_matrix(y_test,predictions['knn']))\n",
    "print(\"\\nClassification Report of 1-NN:\\n\",classification_report(y_test,predictions['knn']))"
   ]
  },
  {
   "cell_type": "markdown",
   "metadata": {
    "colab_type": "text",
    "id": "u-gPFYfWtvnT"
   },
   "source": [
    "#### 2. Bar Plots"
   ]
  },
  {
   "cell_type": "code",
   "execution_count": 15,
   "metadata": {
    "colab": {
     "base_uri": "https://localhost:8080/",
     "height": 332
    },
    "colab_type": "code",
    "id": "K4lTcBe5tvnU",
    "outputId": "1c1a0825-7ed0-4468-fe11-2779bd7ae23a"
   },
   "outputs": [
    {
     "data": {
      "image/png": "[encoded data removed]",
      "text/plain": [
       "<Figure size 432x288 with 1 Axes>"
      ]
     },
     "metadata": {
      "needs_background": "light"
     },
     "output_type": "display_data"
    }
   ],
   "source": [
    "f1_macros, f1_micros, labels = [],[],[]\n",
    "for clf in predictions:  \n",
    "    f1_micros.append(f1_score(y_test,predictions[clf],average='micro'))\n",
    "    f1_macros.append(f1_score(y_test,predictions[clf],average='macro'))\n",
    "    labels.append(clf)\n",
    "\n",
    "x = np.arange(len(labels))\n",
    "width = 0.25\n",
    "\n",
    "fig, ax = plt.subplots()\n",
    "rects1 = ax.bar(x - width/2, f1_micros, width, label='f1_micros')\n",
    "rects2 = ax.bar(x + width/2, f1_macros, width, label='f1_macros')\n",
    "\n",
    "ax.set_ylabel('Scores')\n",
    "ax.set_title('Performance Comparison on F1-Score')\n",
    "ax.set_xticks(x)\n",
    "ax.set_xticklabels(labels)\n",
    "ax.legend()\n",
    "\n",
    "fig.tight_layout()\n",
    "plt.show()"
   ]
  },
  {
   "cell_type": "markdown",
   "metadata": {},
   "source": [
    "#### 3. Discussion"
   ]
  },
  {
   "cell_type": "code",
   "execution_count": 16,
   "metadata": {
    "colab": {
     "base_uri": "https://localhost:8080/",
     "height": 34
    },
    "colab_type": "code",
    "id": "jJ9v7C7KtvnY",
    "outputId": "b551f94f-b438-4c0b-9f3e-8ea942156c25"
   },
   "outputs": [
    {
     "name": "stdout",
     "output_type": "stream",
     "text": [
      "The balance of the test set is 60.6 % in favor of the alive samples.\n"
     ]
    }
   ],
   "source": [
    "print(\"The balance of the test set is\",round(100*sum(y_test)/len(y_test),1),\"% in favor of the alive samples.\")"
   ]
  },
  {
   "cell_type": "markdown",
   "metadata": {
    "colab_type": "text",
    "id": "c9of_XzhtvnX"
   },
   "source": [
    "* Μεταξύ των dummy ταξινομητών, η καλύτερη στρατηγική είναι να διαλέγουμε πάντοτε την πιο συχνή κλάση (frequent) ή ισοδύναμα σταθερά την κλάση που είναι η πιο συχνή (constant-1), μιας και το test set δεν είναι ισορροπημένο, όπως φαίνεται παραπάνω.\n",
    "* Εαν δοκιμάσουμε πολλά runs, θα παρατηρήσουμε ότι η επιλογή stratified, δηλαδή να επιλέγουμε τυχαία κλάση διατηρώντας την κατανομή των κλάσεων στο training set, ενώ στη γενική περίπτωση δίνει καλύτερα αποτελέσματα από τη random επιλογή, στη προκειμένη, λόγω της ισορροπίας του train dataset, οι δύο μέθοδοι είναι ισοδύναμες. \n",
    "* Ο k-NN ταξινομητής δίνει καλύτερο αποτέλεσμα από τους dummy classifiers, αφού βασίζεται σε έναν αλγόριθμο λογικής ανάλυσης των δεδομένων. Παρόλ' αυτά, το dataset παραμένει μικρό και οι εκάστοτε γείτονες δεν είναι αντιπορσωπευτικοί, κάτι που περιορίζει τις δυνατότητες του ταξινομητή."
   ]
  },
  {
   "cell_type": "markdown",
   "metadata": {
    "colab_type": "text",
    "id": "s2HAdTuztvnc"
   },
   "source": [
    "### D. Optimization of Classifiers\n",
    "\n",
    "Θα ακολουθήσουμε bottom-up λογική και επιλέγουμε τον classifier που μπορεί να δώσει καλύτερα αποτελέσματα. Εδώ δεν έχουμε παρά να επιλέξουμε τον k-NN classifier, μιας και οι dummy classifiers δεν επηρεάζονται από την εσωτερική επεξεργασία των δεδομένων. Για την εύρεση των βέλτιστων υπερπαραμέτρων θα διατηρήσουμε το διαχωρισμό του dataset σε 80% train και 20% test και θα χρησιμοποιήσουμε 10-fold cross validation για να εκτιμήσουμε τις παραμέτρους μόνο από το train set. Συγκεκριμένα, αφού γίνει η απαραίτητη προεπεξεργασία ολόκληρου του set, αυτό θα χωριστεί σε 10 subsets, καθένα από τα οποία θα δοκιμαστεί σαν validation set. Στη συνέχεια, οι παράμετροι θα δώσουν το καλύτερο cross score θα εφαρμοστούν προκειμένου να κάνουμε το τελικό prediction για το αρχικό μας test set."
   ]
  },
  {
   "cell_type": "markdown",
   "metadata": {
    "colab_type": "text",
    "id": "KHov7-cxtvnd"
   },
   "source": [
    "#### 1-2. Pre-Processing - Optimization and Execution Time\n",
    "\n",
    "Μια απλή τεχνική επιλογής χαρακτηριστικών είναι το ελάχιστο κατώφλι της διακύμανσης (Variance threshold). Γενικώς αν η διακύμανση ενός χαρακτηριστικού είναι χαμηλή, δεν μπορεί να προσφέρει σημαντικά στη διαχωριστική ικανότητα του ταξινομητή. Ειδικά στην περίπτωση που η διακύμανση είναι 0, δηλαδή το χαρακτηριστικό εχει σταθερή τιμή για όλα τα δείγματα εκπαίδευσης, δεν χρησιμέυει καθόλου. Χρησιμοποιούμε την συνάρτηση VarianceThreshold() για να αφαιρέσουμε τα χαρακτηριστικά που έχουν πολύ χαμηλή διακύμανση (κάτω από ένα κατώφλι). Πρέπει επίσης να πάρουμε μια μάσκα (index) των χαρακτηριστικών που επιλέγουμε, ώστε να την εφαρμόσουμε και στο test set, ώστε να έχουν τις ίδιες διαστάσεις.\n",
    "\n",
    "Επίσης, χαρακτηριστικά με πολύ μεγάλες διαφορές στις τιμές τους μπορούν να προκαλέσουν προβλήματα στην εκπαίδευση. Για παράδειγμα ένα χαρακτηριστικό με πολύ μεγάλες τιμές θα έχει μεγαλύτερη επίδραση στον υπολογισμό της απόστασης στον kNN από ότι ένα με μικρές τιμές, χωρίς αυτό να σημαίνει απαραίτητα ότι είναι περισσότερο καθοριστικό. Η κανονικοποίηση μετασχηματίζει τις τιμές των χαρακτηριστικών ώστε να αμβλυνθούν αυτές οι διαφορές και μπορεί να γίνει με 2 τρόπους: Διαιρώντας με τη διαφορά μεγίστου-ελαχίστου (feature scaling) οπότε οι τιμές όλων των χαρακτηριστικών κλιμακώνονται γραμμικά στο διάστημα [0,1] ή με το standard score του κάθε χαρακτηριστικού, που κάνει το χαρακτηριστικό να έχει μέση τιμή μηδέν και διακύμανση μονάδα. H μετατροπή σε standard score είναι απαραίτητη σε πολλούς ταξινομητές για να συμπεριφερθούν σωστά. Επίσης είναι πιο ανθεκτική από την min-max σε σποραδικές τιμές που είναι πολύ μακριά απο τη μέση τιμή και τις υπόλοιπες τιμές του χαρακτηριστικού. Από την άλλη, η κλιμάκωση στο [0,1] είναι λιγότερο ευαίσθητη σε μικρές αποκλίσεις και επίσης σε αραιά διανύσματα διατηρεί τα μηδέν.\n",
    "\n",
    "Εναλλακτικά της επιλογής χαρακτηριστικών με στόχο τη μείωση της διαστατικότητάς τους, μπορούμε να κάνουμε εξαγωγή νέων χαρακτηριστικών σε ένα χώρο μικρότερων διαστάσεων. Η βασικότερη τεχνική feature extraction είναι η ανάλυση σε κύριες συνιστώσες (PCA) όπου αναλύουμε τα δεδομένα σε κύριες συνιστώσες και δουλέυουμε με τελείως νέες, γραμμικά ασυσχέτιστες μεταβλητές μικρότερης διαστατικότητας."
   ]
  },
  {
   "cell_type": "code",
   "execution_count": 17,
   "metadata": {},
   "outputs": [],
   "source": [
    "def applyVarThreshold(data,thres=0):\n",
    "    selector = VarianceThreshold(threshold=thres)\n",
    "    return selector.fit_transform(data)\n",
    "\n",
    "def applyPCA(data,num=len(data[0])):\n",
    "    pca = PCA(n_components=num)\n",
    "    return pca.fit_transform(data)"
   ]
  },
  {
   "cell_type": "code",
   "execution_count": 18,
   "metadata": {
    "colab": {},
    "colab_type": "code",
    "id": "rUbXZ0iHtvnj"
   },
   "outputs": [],
   "source": [
    "def cross_validation(clf,x_cv,y_cv,cv):\n",
    "    \n",
    "    array = []\n",
    "    fold_len = len(x_cv)//cv\n",
    "    for fold_num in range(cv): array.append(fold_num*fold_len)\n",
    "    \n",
    "    test_acc  = []\n",
    "    for i in array:\n",
    "        x_test_temp  = x_cv[i:i+fold_len]\n",
    "        y_test_temp  = y_cv[i:i+fold_len]\n",
    "        x_train_temp = np.concatenate((x_cv[:i],x_cv[i+fold_len:]))\n",
    "        y_train_temp = np.concatenate((y_cv[:i],y_cv[i+fold_len:]))\n",
    "        clf.fit(x_train_temp,y_train_temp)\n",
    "        test_acc.append(clf.score(x_test_temp,y_test_temp))\n",
    "    \n",
    "    return test_acc\n",
    "\n",
    "\n",
    "def gridsearch(data,labels,scaler=False,var_thresh=False,pca=False):\n",
    "    \n",
    "    accuracies = {}\n",
    "    \n",
    "    if scaler == 'MinMax': \n",
    "        scaler = preprocessing.MinMaxScaler()\n",
    "        data   = scaler.fit_transform(data)\n",
    "    elif scaler == 'Standard': \n",
    "        scaler = preprocessing.StandardScaler()\n",
    "        data   = scaler.fit_transform(data)\n",
    "    \n",
    "    for thres in np.arange(0,0.25,0.05):\n",
    "        data_var = data\n",
    "        if var_thresh: data_var = applyVarThreshold(data,thres)\n",
    "                \n",
    "        for i in range(1,len(data[0])):\n",
    "            data_pca = data_var\n",
    "            if pca: data_pca = applyPCA(data_var,i)\n",
    "\n",
    "            for j in range(1,len(data_pca)//2):\n",
    "                knn = KNeighborsClassifier(n_neighbors=j) \n",
    "                test_score = cross_validation(knn,data_pca,labels,10)\n",
    "                accuracies[str(i)+\"_\"+str(thres)+\"_\"+str(j)] = np.mean(test_score)\n",
    "\n",
    "            if not pca: break   \n",
    "        if not var_thresh: break \n",
    "    \n",
    "    k = max(accuracies,key=accuracies.get)\n",
    "    score = accuracies[k]\n",
    "    params = k.split(\"_\")\n",
    "    if var_thresh: print(\"Best Variance Threshold:\",params[1])\n",
    "    if pca: print(\"Best PCA Components Number:\",params[0])\n",
    "    print(\"Best k for k-NN:\",params[2])\n",
    "    print(\"Score:\",round(score,3))\n",
    "    \n",
    "    return params"
   ]
  },
  {
   "cell_type": "markdown",
   "metadata": {},
   "source": [
    "Αρχικά θα εξετάσουμε αν το scaling των δεδομένων θα αυξήσει το accuracy score του k-NN. Θα δοκιμάσουμε τόσο Standard όσο και MinMax scaling:"
   ]
  },
  {
   "cell_type": "code",
   "execution_count": 19,
   "metadata": {},
   "outputs": [
    {
     "name": "stdout",
     "output_type": "stream",
     "text": [
      "Without Scaling:\n",
      "Best k for k-NN: 7\n",
      "Score: 0.692\n",
      "\n",
      "With Standard Scaling:\n",
      "Best k for k-NN: 10\n",
      "Score: 0.746\n",
      "\n",
      "With MinMax Scaling:\n",
      "Best k for k-NN: 7\n",
      "Score: 0.754\n"
     ]
    }
   ],
   "source": [
    "print(\"Without Scaling:\")\n",
    "optimal_params = gridsearch(x_train,y_train,scaler=False,var_thresh=False,pca=False)\n",
    "\n",
    "print(\"\\nWith Standard Scaling:\")\n",
    "optimal_params = gridsearch(x_train,y_train,scaler='Standard',var_thresh=False,pca=False)\n",
    "\n",
    "print(\"\\nWith MinMax Scaling:\")\n",
    "optimal_params = gridsearch(x_train,y_train,scaler='MinMax',var_thresh=False,pca=False)"
   ]
  },
  {
   "cell_type": "markdown",
   "metadata": {},
   "source": [
    "Συνάγουμε ότι η χρήση scaling βελτιώνει ιδιαιτέρως την επίδοση του ταξινομητή. Από τους δύο scalers καλύτερος είναι ο MinMax ενώ αξίζει να αναφέρουμε ότι οι δύο scalers προτείνουν διαφορετικά βέλτιστα k. Στη συνέχεια, δεδομένου του MinMax scaling, εξετάζουμε την επίδραση του Variance Threshold.  "
   ]
  },
  {
   "cell_type": "code",
   "execution_count": 20,
   "metadata": {},
   "outputs": [
    {
     "name": "stdout",
     "output_type": "stream",
     "text": [
      "Best Variance Threshold: 0.0\n",
      "Best k for k-NN: 7\n",
      "Score: 0.754\n"
     ]
    }
   ],
   "source": [
    "optimal_params = gridsearch(x_train,y_train,scaler='MinMax',var_thresh=True,pca=False)"
   ]
  },
  {
   "cell_type": "markdown",
   "metadata": {},
   "source": [
    "Συνάγουμε πως το Variance Threshold δεν έχει καμία επίδραση στο τελικό αποτέλεσμα. Όλα τα στοιχεία (τυπικά πλην αυτών που δεν έχουν καμία διακύμανση και είναι άχρηστα) διατηρούνται και το ποσοστό παραμένει αυτό που λάβαμε και προηγουμένως για MinMax scaling. Θα εξετάσουμε τώρα την επίδραση του PCA decomposition:"
   ]
  },
  {
   "cell_type": "code",
   "execution_count": 21,
   "metadata": {},
   "outputs": [
    {
     "name": "stdout",
     "output_type": "stream",
     "text": [
      "Best PCA Components Number: 4\n",
      "Best k for k-NN: 5\n",
      "Score: 0.785\n"
     ]
    }
   ],
   "source": [
    "optimal_params = gridsearch(x_train,y_train,scaler='MinMax',var_thresh=False,pca=True)"
   ]
  },
  {
   "cell_type": "markdown",
   "metadata": {
    "colab_type": "text",
    "id": "701zzsbDtvnr"
   },
   "source": [
    "Βλέπουμε πως το αποτέλεσμα βελτιώνεται περαιτέρω κατά 3% με την μείωση σε 4 διαστάσεις των δεδομένων μέσω PCA. Παρατηρούμε εδώ και μια αλλαγή στο βέλτιστο αριθμό των κοντινότερων γειτόνων. Τελικώς, από το grid search λαμβάνουμε τις εξής βέλτιστες υπερπαραμέτρους:\n",
    "* Scaling: **MinMax**\n",
    "* Variance Threshold: **0.0**\n",
    "* PCA Decomposition: **4 components**\n",
    "* Number of nearest neighbors: **5 neighbors**"
   ]
  },
  {
   "cell_type": "markdown",
   "metadata": {
    "colab_type": "text",
    "id": "uYdb4lyPtvnv"
   },
   "source": [
    "Επαναλαμβάνουμε τώρα τη διαδικασία ταξινόμησης με τις βελτιστοποιημένες παραμέτρους. Θα κάνουμε νέο τρέξιμο μόνο τον ταξινομητή k-NN αφού οι dummy classifiers δεν επηρεάζονται από τις παραπάνω παραμέτρους. Θα παραθέσουμε πάντως και αυτούς, μαζί με το χρόνο που διαρκεί ο καθένας."
   ]
  },
  {
   "cell_type": "code",
   "execution_count": 22,
   "metadata": {},
   "outputs": [],
   "source": [
    "scaler = preprocessing.MinMaxScaler()\n",
    "x_train_scaled = scaler.fit_transform(x_train)\n",
    "x_test_scaled  = scaler.fit_transform(x_test)"
   ]
  },
  {
   "cell_type": "code",
   "execution_count": 29,
   "metadata": {
    "colab": {
     "base_uri": "https://localhost:8080/",
     "height": 1000
    },
    "colab_type": "code",
    "id": "9jjLqHGRtvnw",
    "outputId": "5c7cc067-0436-4006-bd98-f6c3fc96e941"
   },
   "outputs": [
    {
     "name": "stdout",
     "output_type": "stream",
     "text": [
      "Classification Accuracy of Dummy Classifiers for the test set:\n",
      "\n",
      "With uniform strategy: 42.424 %\n",
      "With const_0 strategy: 39.394 %\n",
      "With const_1 strategy: 60.606 %\n",
      "With stratif strategy: 69.697 %\n",
      "With frequent strategy: 60.606 %\n",
      "\n",
      "Confusion Matrices of Dummy Classifiers for the test set:\n",
      "\n",
      "With uniform strategy:\n",
      " [[ 8  5]\n",
      " [ 8 12]]\n",
      "With const_0 strategy:\n",
      " [[13  0]\n",
      " [20  0]]\n",
      "With const_1 strategy:\n",
      " [[ 0 13]\n",
      " [ 0 20]]\n",
      "With stratif strategy:\n",
      " [[ 6  7]\n",
      " [ 7 13]]\n",
      "With frequent strategy:\n",
      " [[ 0 13]\n",
      " [ 0 20]]\n",
      "\n",
      "Classification Report of uniform strategy:\n",
      "               precision    recall  f1-score   support\n",
      "\n",
      "           0       0.31      0.38      0.34        13\n",
      "           1       0.53      0.45      0.49        20\n",
      "\n",
      "    accuracy                           0.42        33\n",
      "   macro avg       0.42      0.42      0.42        33\n",
      "weighted avg       0.44      0.42      0.43        33\n",
      "\n",
      "\n",
      "Classification Report of const_0 strategy:\n",
      "               precision    recall  f1-score   support\n",
      "\n",
      "           0       0.39      1.00      0.57        13\n",
      "           1       0.00      0.00      0.00        20\n",
      "\n",
      "    accuracy                           0.39        33\n",
      "   macro avg       0.20      0.50      0.28        33\n",
      "weighted avg       0.16      0.39      0.22        33\n",
      "\n",
      "\n",
      "Classification Report of const_1 strategy:\n",
      "               precision    recall  f1-score   support\n",
      "\n",
      "           0       0.00      0.00      0.00        13\n",
      "           1       0.61      1.00      0.75        20\n",
      "\n",
      "    accuracy                           0.61        33\n",
      "   macro avg       0.30      0.50      0.38        33\n",
      "weighted avg       0.37      0.61      0.46        33\n",
      "\n",
      "\n",
      "Classification Report of stratif strategy:\n",
      "               precision    recall  f1-score   support\n",
      "\n",
      "           0       0.36      0.31      0.33        13\n",
      "           1       0.59      0.65      0.62        20\n",
      "\n",
      "    accuracy                           0.52        33\n",
      "   macro avg       0.48      0.48      0.48        33\n",
      "weighted avg       0.50      0.52      0.51        33\n",
      "\n",
      "\n",
      "Classification Report of frequent strategy:\n",
      "               precision    recall  f1-score   support\n",
      "\n",
      "           0       0.00      0.00      0.00        13\n",
      "           1       0.61      1.00      0.75        20\n",
      "\n",
      "    accuracy                           0.61        33\n",
      "   macro avg       0.30      0.50      0.38        33\n",
      "weighted avg       0.37      0.61      0.46        33\n",
      "\n",
      "\n",
      "Fit and Predict duration of Dummy Classifiers in secs:\n",
      "\n",
      "Fitting time for uniform strategy: 0.008278846740722656\n",
      "Predict time for uniform strategy: 0.00016641616821289062 \n",
      "\n",
      "Fitting time for const_0 strategy: 0.00027751922607421875\n",
      "Predict time for const_0 strategy: 6.937980651855469e-05 \n",
      "\n",
      "Fitting time for const_1 strategy: 0.0002205371856689453\n",
      "Predict time for const_1 strategy: 6.151199340820312e-05 \n",
      "\n",
      "Fitting time for stratif strategy: 0.00017642974853515625\n",
      "Predict time for stratif strategy: 0.0001811981201171875 \n",
      "\n",
      "Fitting time for frequent strategy: 0.00016736984252929688\n",
      "Predict time for frequent strategy: 7.200241088867188e-05 \n",
      "\n"
     ]
    }
   ],
   "source": [
    "npredictions, nsmall_accuracies, fit_times, pred_times = DummyClassification(x_train_scaled,y_train,x_test_scaled,y_test)\n",
    "\n",
    "print(\"Classification Accuracy of Dummy Classifiers for the test set:\\n\")\n",
    "for strategy in nsmall_accuracies: print(\"With\",strategy,\"strategy:\",np.round(100*nsmall_accuracies[strategy],3),\"%\")\n",
    "\n",
    "print(\"\\nConfusion Matrices of Dummy Classifiers for the test set:\\n\")\n",
    "for strategy in npredictions: print(\"With\",strategy,\"strategy:\\n\",confusion_matrix(y_test,npredictions[strategy]))\n",
    "\n",
    "for strategy in predictions:\n",
    "    print(\"\\nClassification Report of\",strategy,\"strategy:\\n\",classification_report(y_test,predictions[strategy]))\n",
    "    \n",
    "print(\"\\nFit and Predict duration of Dummy Classifiers in secs:\\n\")\n",
    "for strategy in npredictions:\n",
    "    print(\"Fitting time for\",strategy,\"strategy:\",fit_times[strategy])\n",
    "    print(\"Predict time for\",strategy,\"strategy:\",pred_times[strategy],\"\\n\")"
   ]
  },
  {
   "cell_type": "code",
   "execution_count": 32,
   "metadata": {},
   "outputs": [
    {
     "name": "stdout",
     "output_type": "stream",
     "text": [
      "Classification Accuracy of k-NN for the test set: 57.576 %\n",
      "\n",
      "Confusion Matrix of k-NN for the test set:\n",
      " [[ 4  9]\n",
      " [ 5 15]]\n",
      "\n",
      "Classification Report of k-NN for the test set:\n",
      "               precision    recall  f1-score   support\n",
      "\n",
      "           0       0.44      0.31      0.36        13\n",
      "           1       0.62      0.75      0.68        20\n",
      "\n",
      "    accuracy                           0.58        33\n",
      "   macro avg       0.53      0.53      0.52        33\n",
      "weighted avg       0.55      0.58      0.56        33\n",
      "\n",
      "\n",
      "Fitting time for k-NN Classifier: 0.001397848129272461\n",
      "Predict time for k-NN Classifier: 0.005410909652709961\n"
     ]
    }
   ],
   "source": [
    "x_train_scaled = applyPCA(x_train_scaled,int(optimal_params[0]))\n",
    "x_test_scaled  = applyPCA(x_test_scaled,int(optimal_params[0]))\n",
    "knn = KNeighborsClassifier(int(optimal_params[2]))\n",
    "\n",
    "start_time = time.time()\n",
    "knn.fit(x_train_scaled,y_train)\n",
    "fit_times['knn'] = time.time()-start_time\n",
    "\n",
    "start_time = time.time()\n",
    "npredictions['knn'] = knn.predict(x_test_scaled)\n",
    "pred_times['knn'] = time.time()-start_time\n",
    "\n",
    "nsmall_accuracies['knn'] = knn.score(x_test_scaled,y_test)\n",
    "\n",
    "print(\"Classification Accuracy of k-NN for the test set:\",np.round(100*nsmall_accuracies['knn'],3),\"%\")\n",
    "print(\"\\nConfusion Matrix of k-NN for the test set:\\n\",confusion_matrix(y_test,npredictions['knn']))\n",
    "print(\"\\nClassification Report of k-NN for the test set:\\n\",classification_report(y_test,npredictions['knn']))\n",
    "print(\"\\nFitting time for k-NN Classifier:\",fit_times['knn'])\n",
    "print(\"Predict time for k-NN Classifier:\",pred_times['knn'])"
   ]
  },
  {
   "cell_type": "markdown",
   "metadata": {
    "colab_type": "text",
    "id": "fuVmubGvtvn3"
   },
   "source": [
    "Παρατηρούμε πως η απόδοση χειροτερεύει εφαρμόζοντας τις παραμέτρους που βρήκαμε στο grid search. Αυτό μπορεί να οφείλεται αποκλειστικά στο μικρό μέγεθος του dataset. Τα δεδομένα μας δεν είναι αρκετά αντιπροσωπευτικά, ώστε να διατηρούν ίδιες ιδιότητες κατά το split σε train, validation και test sets."
   ]
  },
  {
   "cell_type": "markdown",
   "metadata": {
    "colab_type": "text",
    "id": "TkzuhixStvn4"
   },
   "source": [
    "#### 3. Bar Plots"
   ]
  },
  {
   "cell_type": "code",
   "execution_count": 25,
   "metadata": {
    "colab": {
     "base_uri": "https://localhost:8080/",
     "height": 332
    },
    "colab_type": "code",
    "id": "qrgKQ23Ztvn5",
    "outputId": "a63d1b18-a970-4f9c-af30-f1fb447d6dc5"
   },
   "outputs": [
    {
     "data": {
      "image/png": "[encoded data removed]",
      "text/plain": [
       "<Figure size 432x288 with 1 Axes>"
      ]
     },
     "metadata": {
      "needs_background": "light"
     },
     "output_type": "display_data"
    }
   ],
   "source": [
    "f1_macros, f1_micros, labels = [],[],[]\n",
    "for clf in npredictions:  \n",
    "    f1_micros.append(f1_score(y_test,npredictions[clf],average='micro'))\n",
    "    f1_macros.append(f1_score(y_test,npredictions[clf],average='macro'))\n",
    "    labels.append(clf)\n",
    "\n",
    "x = np.arange(len(labels))\n",
    "width = 0.25\n",
    "\n",
    "fig, ax = plt.subplots()\n",
    "rects1 = ax.bar(x - width/2, f1_micros, width, label='f1_micros')\n",
    "rects2 = ax.bar(x + width/2, f1_macros, width, label='f1_macros')\n",
    "\n",
    "ax.set_ylabel('Scores')\n",
    "ax.set_title('Performance Comparison on F1-Score')\n",
    "ax.set_xticks(x)\n",
    "ax.set_xticklabels(labels)\n",
    "ax.legend()\n",
    "\n",
    "fig.tight_layout()\n",
    "plt.show()"
   ]
  },
  {
   "cell_type": "markdown",
   "metadata": {
    "colab_type": "text",
    "id": "CiM4KYIntvn8"
   },
   "source": [
    "#### 4. Optimization Table"
   ]
  },
  {
   "cell_type": "code",
   "execution_count": 26,
   "metadata": {
    "colab": {
     "base_uri": "https://localhost:8080/",
     "height": 123
    },
    "colab_type": "code",
    "id": "xIfo_0tdtvn8",
    "outputId": "e00bfd6f-6b5e-448d-894c-d1d82b7de416"
   },
   "outputs": [
    {
     "name": "stdout",
     "output_type": "stream",
     "text": [
      "Improvement for uniform : 0.0\n",
      "Improvement for const_0 : 0.0\n",
      "Improvement for const_1 : 0.0\n",
      "Improvement for stratif : -0.061\n",
      "Improvement for frequent : 0.0\n",
      "Improvement for knn : -0.091\n"
     ]
    }
   ],
   "source": [
    "nsmall_accuracies['knn']=nsmall_accuracies['knn']\n",
    "for clf in small_accuracies:\n",
    "    print(\"Improvement for\",clf,\":\",np.round(nsmall_accuracies[clf]-small_accuracies[clf],3))"
   ]
  },
  {
   "cell_type": "markdown",
   "metadata": {
    "colab_type": "text",
    "id": "YrQuzM3Etvn_"
   },
   "source": [
    "#### 5. Discussion\n",
    "\n",
    "Όπως περιγράψαμε παραπάνω, ακολουθήσαμε μια bottom-up λογική για να επιλέξουμε τις βέλτιστες υπερπαραμέτρους pre-processing και training του dataset, ούτως ώστε να αυξήσουμε το accuracy της ταξινόμησης. Ενώ είδαμε βελτίωση με τη μέθοδο του cross validation, η μη αντιπροσωπευτικότητα των επιμέρους sets δεν επέτρεψε την αύξηση του score στο test set, το αντίθετο μάλιστα. Από κει και πέρα, οι παρατηρήσεις που έγιναν στο (C) για τους dummy classifiers συνεχίζουν να ισχύουν καθώς αυτοί δεν επηρεάζονται από το tuning. Όσον αφορά τους χρόνους εκτέλεσης, αξίζει να παρατηρήσουμε ότι το fit παίρνει περισσότερο χρόνο από το prediction. Τα παραπάνω συμπεράσματα φαίνονται και στο Optimization Table παραπάνω."
   ]
  }
 ],
 "metadata": {
  "colab": {
   "name": "MB4-S05(ntinos).ipynb",
   "provenance": [],
   "toc_visible": true
  },
  "kernelspec": {
   "display_name": "Python 3",
   "language": "python",
   "name": "python3"
  },
  "language_info": {
   "codemirror_mode": {
    "name": "ipython",
    "version": 3
   },
   "file_extension": ".py",
   "mimetype": "text/x-python",
   "name": "python",
   "nbconvert_exporter": "python",
   "pygments_lexer": "ipython3",
   "version": "3.7.3"
  }
 },
 "nbformat": 4,
 "nbformat_minor": 1
}
