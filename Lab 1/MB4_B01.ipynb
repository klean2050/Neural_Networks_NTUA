{
 "cells": [
  {
   "cell_type": "markdown",
   "metadata": {
    "colab_type": "text",
    "id": "SmPwXg_ftpDl"
   },
   "source": [
    "# Neural Networks ECE NTUA Course 2019-20 ~ Team M.B.4\n",
    "## Lab Assingment #1: Classification - Study of UCI Datasets - Big (B01)"
   ]
  },
  {
   "cell_type": "markdown",
   "metadata": {
    "colab_type": "text",
    "id": "jC5zkEAdtpDp"
   },
   "source": [
    "### A. The Team\n",
    "* Αβραμίδης Κλεάνθης   ~ 03115117\n",
    "* Κρατημένος Άγγελος   ~ 03115025\n",
    "* Πανίδης Κωνσταντίνος ~ 03113602\n",
    "\n",
    "*Σημείωση: Θεωρούμε γνωστό και δεδομένο το small notebook, συνεπώς δε θα επαναληφθούν αναλυτικά προαναφερθείσες έννοιες.*"
   ]
  },
  {
   "cell_type": "markdown",
   "metadata": {
    "colab_type": "text",
    "id": "cxqccrLDtpDq"
   },
   "source": [
    "### B. The Dataset\n"
   ]
  },
  {
   "cell_type": "markdown",
   "metadata": {
    "colab_type": "text",
    "id": "kZMaqnMItpDr"
   },
   "source": [
    "#### 1. Introduction\n",
    "\n",
    "Παραθέτουμε την επίσημη περιγραφή που παρέχει το dataset:\n",
    "\n",
    "The data are MC generated to simulate registration of high energy\n",
    "   gamma particles in a ground-based atmospheric Cherenkov gamma telescope using the\n",
    "   imaging technique. Cherenkov gamma telescope observes high energy gamma rays,\n",
    "   taking advantage of the radiation emitted by charged particles produced\n",
    "   inside the electromagnetic showers initiated by the gammas, and developing in the\n",
    "   atmosphere. This Cherenkov radiation leaks\n",
    "   through the atmosphere and gets recorded in the detector, allowing reconstruction\n",
    "   of the shower parameters. The available information consists of pulses left by\n",
    "   the incoming Cherenkov photons on the photomultiplier tubes, arranged in a\n",
    "   plane, the camera. Depending on the energy of the primary gamma, a total of\n",
    "   few hundreds to some 10000 Cherenkov photons get collected in patterns,\n",
    "   allowing to discriminate statistically those\n",
    "   caused by primary gammas from the images of hadronic showers\n",
    "   initiated by cosmic rays in the upper atmosphere. Typically, the image of a shower after some pre-processing is an elongated\n",
    "   cluster. Its long axis is oriented towards the camera center if the shower axis\n",
    "   is parallel to the telescope's optical axis, i.e. if the telescope axis is\n",
    "   directed towards a point source. A principal component analysis is performed\n",
    "   in the camera plane, which results in a correlation axis and defines an ellipse.\n",
    "   The energy depositions are typically asymmetric\n",
    "   along the major axis, and this asymmetry can also be used in discrimination.\n",
    "   There are, in addition, further discriminating characteristics, like the\n",
    "   extent of the cluster in the image plane, or the total sum of depositions.\n",
    "\n",
    "Τα δεδομένα δημιουργήθηκαν από ένα Monte Carlo πρόγραμμα, Corsika, και περιγράφεται από το \n",
    "      *D. Heck et al., CORSIKA, A Monte Carlo code to simulate extensive air showers,\n",
    "      Forschungszentrum Karlsruhe FZKA 6019 (1998).*"
   ]
  },
  {
   "cell_type": "code",
   "execution_count": 1,
   "metadata": {
    "colab": {},
    "colab_type": "code",
    "id": "vWqtyRYWtpDt"
   },
   "outputs": [
    {
     "name": "stderr",
     "output_type": "stream",
     "text": [
      "Using TensorFlow backend.\n"
     ]
    }
   ],
   "source": [
    "import pandas as pd, numpy as np, matplotlib.pyplot as plt, time\n",
    "from imblearn.over_sampling import RandomOverSampler\n",
    "from sklearn.model_selection import train_test_split,GridSearchCV\n",
    "from sklearn.impute import SimpleImputer\n",
    "from sklearn.dummy import DummyClassifier\n",
    "from sklearn.neighbors import KNeighborsClassifier\n",
    "from sklearn.neural_network import MLPClassifier\n",
    "from sklearn.naive_bayes import GaussianNB\n",
    "from sklearn.metrics import accuracy_score,classification_report,confusion_matrix\n",
    "from sklearn.metrics import precision_recall_fscore_support,f1_score\n",
    "from sklearn.feature_selection import VarianceThreshold\n",
    "from sklearn import preprocessing\n",
    "from sklearn.preprocessing import StandardScaler,MinMaxScaler\n",
    "from sklearn.decomposition import PCA\n",
    "from imblearn.pipeline import Pipeline\n",
    "from sklearn.utils import shuffle"
   ]
  },
  {
   "cell_type": "markdown",
   "metadata": {
    "colab_type": "text",
    "id": "l2_KDCnNtpDs"
   },
   "source": [
    "#### 2. Samples & Features"
   ]
  },
  {
   "cell_type": "code",
   "execution_count": 2,
   "metadata": {
    "colab": {
     "base_uri": "https://localhost:8080/",
     "height": 34
    },
    "colab_type": "code",
    "id": "J2C5n1X9tpDy",
    "outputId": "302c8228-39cd-42d5-febf-c77dd4375232"
   },
   "outputs": [
    {
     "name": "stdout",
     "output_type": "stream",
     "text": [
      "The Dataset contains 19020 samples, 10 features and a label.\n"
     ]
    }
   ],
   "source": [
    "data = pd.read_csv(\"magic04.data\",header=None).to_numpy()\n",
    "print(\"The Dataset contains\",data.shape[0],\"samples,\",data.shape[1]-1,\"features and a label.\")"
   ]
  },
  {
   "cell_type": "markdown",
   "metadata": {
    "colab_type": "text",
    "id": "xGa9gX0FtpD2"
   },
   "source": [
    "Προκύπτει ότι το Dataset αποτελείται από 19020 δείγματα, καθένα εκ των οποίων έχει 10 χαρακτηριστικά συν την binary ετικέτα του. Στη συνέχεια θα εξετάσουμε το είδος των χαρακτηριστικών μέσω του δείγματος μιας και το dataset δεν έχει απουσιάζουσες τιμές."
   ]
  },
  {
   "cell_type": "code",
   "execution_count": 3,
   "metadata": {
    "colab": {
     "base_uri": "https://localhost:8080/",
     "height": 68
    },
    "colab_type": "code",
    "id": "nmTslYkotpD3",
    "outputId": "571dc9ad-54b2-4937-b93f-aece1607bf08"
   },
   "outputs": [
    {
     "name": "stdout",
     "output_type": "stream",
     "text": [
      "Data types of features: {<class 'str'>, <class 'float'>}\n",
      "Inspection of features: [28.7967 16.0021 2.6449 0.3918 0.1982 27.7004 22.011 -8.2027 40.092\n",
      " 81.8828 'g']\n"
     ]
    }
   ],
   "source": [
    "print(\"Data types of features:\",set([type(feature) for feature in data[0]]))\n",
    "print(\"Inspection of features:\",data[0])"
   ]
  },
  {
   "cell_type": "markdown",
   "metadata": {
    "colab_type": "text",
    "id": "k3A2ZZfUtpD6"
   },
   "source": [
    "Παρατηρούμε πως όλα τα χαρακτηριστικά λαμβάνουν αριθμητικές float τιμές και η μόνη μη διατεταγμένη μορφή είναι η τελευταία στήλη που υποδηλώνει το label και είναι τύπου str."
   ]
  },
  {
   "cell_type": "markdown",
   "metadata": {
    "colab_type": "text",
    "id": "8cm4XarktpD7"
   },
   "source": [
    "#### 4. Labels\n",
    "\n",
    "Σύμφωνα με το documentation, οι ετικέτες των δειγμάτων λαμβάνουν τις τιμές g (gamma) ή h (hadron) και βρίσκονται στην τελευταία κολόνα του ```data```:"
   ]
  },
  {
   "cell_type": "code",
   "execution_count": 4,
   "metadata": {
    "colab": {
     "base_uri": "https://localhost:8080/",
     "height": 34
    },
    "colab_type": "code",
    "id": "qnj5i0EEtpD8",
    "outputId": "0f1b4a01-09d2-498b-de55-f4ef93d415ac"
   },
   "outputs": [
    {
     "name": "stdout",
     "output_type": "stream",
     "text": [
      "Labels of the Dataset: {'h', 'g'}\n"
     ]
    }
   ],
   "source": [
    "labels = data[:,-1]\n",
    "feats  = data[:,:-1]\n",
    "print(\"Labels of the Dataset:\",set(labels))"
   ]
  },
  {
   "cell_type": "markdown",
   "metadata": {
    "colab_type": "text",
    "id": "L7wxdSr_tpD_"
   },
   "source": [
    "#### 5. Pre-Processing\n",
    "\n",
    "Δεν απαιτήθηκε κάποια προσαρμογή των input files."
   ]
  },
  {
   "cell_type": "markdown",
   "metadata": {
    "colab_type": "text",
    "id": "GFzalV2NtpEA"
   },
   "source": [
    "#### 6. Missing Values\n",
    "\n",
    "Δεν υπάρχουν απουσιάζουσες τιμές σύμφωνα με το documentation του dataset."
   ]
  },
  {
   "cell_type": "markdown",
   "metadata": {
    "colab_type": "text",
    "id": "n0G4-5XdtpEB"
   },
   "source": [
    "#### 7. Balance\n",
    "\n",
    "Λόγω της binary φύσης των labels, μπορούμε να εκτιμήσουμε απευθείας πόσα στοιχεία ανήκουν σε κάθε κλάση μέσω της συνάρτησης sum(), άρα και να αποφανθούμε περί της ισορροπίας του Dataset, διαιρώντας με τον συνολικό αριθμό των δειγμάτων:"
   ]
  },
  {
   "cell_type": "code",
   "execution_count": 5,
   "metadata": {
    "colab": {
     "base_uri": "https://localhost:8080/",
     "height": 68
    },
    "colab_type": "code",
    "id": "FZsepNSqtpEC",
    "outputId": "8f7510fe-d27d-4344-de4e-b272df9b3a36"
   },
   "outputs": [
    {
     "name": "stdout",
     "output_type": "stream",
     "text": [
      "(19020, 10)\n",
      "12332 samples are gamma and 6688 are hadron\n",
      "The balance of the Dataset is 0.65 in favor of the gamma samples.\n"
     ]
    }
   ],
   "source": [
    "np_labels = np.array(labels)\n",
    "print(feats.shape)\n",
    "print(len(np_labels[np_labels=='g']),\"samples are gamma and\",len(np_labels)-len(np_labels[np_labels=='g']),\"are hadron\")\n",
    "print(\"The balance of the Dataset is\",round(len(np_labels[np_labels=='g'])/len(labels),2),\"in favor of the gamma samples.\")"
   ]
  },
  {
   "cell_type": "markdown",
   "metadata": {
    "colab_type": "text",
    "id": "KOD94SQitpEF"
   },
   "source": [
    "Είναι εμφανές πως τα δεδομένα κλίνουν κατά ένα βαθμό στην κλάση gamma, συνεπώς τα δεδομένα μας δεν είναι καλώς ισορροπημένα. Παρότι το ποσοστό παραμένει οριακά μικρότερο από 2/3 και θα μπορούσαμε να μην κάνουμε κάτι επιπλέον, επιλέγουμε να εφαρμόσουμε oversampling, θεωρώντας ότι όσο πιο ισορροπημένο είναι το dataset, τόσο καλύτερα θα είναι τα αποτελέσματα. Για να γίνει αυτό θα προηγηθεί το split."
   ]
  },
  {
   "cell_type": "markdown",
   "metadata": {
    "colab_type": "text",
    "id": "W_Zu-Is_tpEG"
   },
   "source": [
    "#### 8. Train & Test Set\n",
    "\n",
    "Σαν τελευταίο βήμα επεξεργασίας, θα χωρίσουμε τα δεδομένα σε train και test μέσω της αντίστοιχης συνάρτησης *train_test_split()* της Scikit-learn. Αντίστοιχα χωρίζουμε και τα labels. Επιλέγουμε σχήμα 20% για το test set:"
   ]
  },
  {
   "cell_type": "code",
   "execution_count": 6,
   "metadata": {
    "colab": {},
    "colab_type": "code",
    "id": "Kq_4PeoUtpEH"
   },
   "outputs": [],
   "source": [
    "x_train,x_test,y_train,y_test = train_test_split(feats,labels,test_size=0.3,random_state=0) "
   ]
  },
  {
   "cell_type": "markdown",
   "metadata": {
    "colab_type": "text",
    "id": "F2O6eNBbtpEK"
   },
   "source": [
    "Ως τελευταίο βήμα, θα εφαρμόσουμε oversampling ούτως ώστε να εξισορροπήσουμε το dataset, όπως προείπαμε. Η έννοια του oversampling ειναι πρακτικά η επανάληψη samples από την υπολείπουσα κλάση, ώστε ο λόγος τους να τείνει προς το ιδανικό 50%. Θα εφαρμόσουμε για αυτό το σκοπό την συνάρτηση της Scikit-learn:"
   ]
  },
  {
   "cell_type": "code",
   "execution_count": 7,
   "metadata": {
    "colab": {
     "base_uri": "https://localhost:8080/",
     "height": 34
    },
    "colab_type": "code",
    "id": "XbUvHJALtpEL",
    "outputId": "f9cbcbd5-e7d3-4aaf-ebfe-7391c28b2b88"
   },
   "outputs": [
    {
     "name": "stdout",
     "output_type": "stream",
     "text": [
      "The balance of the train set is 0.5\n"
     ]
    }
   ],
   "source": [
    "ros = RandomOverSampler(random_state = 0)\n",
    "x_train, y_train = ros.fit_sample(x_train,y_train)\n",
    "balance = len(y_train[y_train=='g'])/len(y_train)\n",
    "\n",
    "print(\"The balance of the train set is\",balance)"
   ]
  },
  {
   "cell_type": "markdown",
   "metadata": {
    "colab_type": "text",
    "id": "ZyPBOtlUtpEO"
   },
   "source": [
    "Παρατηρούμε την απευθείας βελτίωση στο λόγο των 2 κλάσεων. Σημειώνουμε πως επιλέγουμε να ισορροπήσουμε μόνο τα δεδομένα εκπαίδευσης, τα οποία είναι και τα μόνα που οφείλουν να είναι ισορροπημένα. Γενικώς αποφεύγουμε οποιαδήποτε περαιτέρω επεξεργασία στα test δεδομένα."
   ]
  },
  {
   "cell_type": "markdown",
   "metadata": {
    "colab_type": "text",
    "id": "YkTU-8-VtpEP"
   },
   "source": [
    "### C. Baseline Classification"
   ]
  },
  {
   "cell_type": "markdown",
   "metadata": {
    "colab_type": "text",
    "id": "COQY2igStpEQ"
   },
   "source": [
    "#### 1. Classification & Metrics\n",
    "\n",
    "Ορίζουμε μία συνάρτηση που εκπαιδεύει τους dummy classifiers με default τιμές και επιστρέφει σε dictionary τα predictions κάθε ταξινομητή, την ακρίβεια του καθώς και τους χρόνους fit και train \n"
   ]
  },
  {
   "cell_type": "code",
   "execution_count": 8,
   "metadata": {
    "colab": {},
    "colab_type": "code",
    "id": "QLZvloaItpEU"
   },
   "outputs": [],
   "source": [
    "def DummyClassification(x_train,y_train,x_test,y_test):\n",
    "    \n",
    "    scores, predictions, fit_times, pred_times = {}, {}, {}, {}\n",
    "\n",
    "    ### Initialization ###\n",
    "    \n",
    "    dc_uniform  = DummyClassifier(strategy=\"uniform\")\n",
    "    dc_const_0  = DummyClassifier(strategy=\"constant\",constant='g')\n",
    "    dc_const_1  = DummyClassifier(strategy=\"constant\",constant='h')\n",
    "    dc_stratif  = DummyClassifier(strategy=\"stratified\")\n",
    "    dc_frequent = DummyClassifier(strategy=\"most_frequent\")\n",
    "\n",
    "    ### Fit ###\n",
    "    \n",
    "    start_time = time.time()\n",
    "    dc_uniform.fit(x_train, y_train)\n",
    "    fit_times['uniform'] = time.time()-start_time\n",
    "    \n",
    "    start_time = time.time()\n",
    "    dc_const_0.fit(x_train, y_train)\n",
    "    fit_times['const_0'] = time.time()-start_time\n",
    "    \n",
    "    start_time = time.time()\n",
    "    dc_const_1.fit(x_train, y_train)\n",
    "    fit_times['const_1'] = time.time()-start_time\n",
    "    \n",
    "    start_time = time.time()\n",
    "    dc_stratif.fit(x_train, y_train)\n",
    "    fit_times['stratif'] = time.time()-start_time\n",
    "    \n",
    "    start_time = time.time()\n",
    "    dc_frequent.fit(x_train,y_train)\n",
    "    fit_times['frequent'] = time.time()-start_time\n",
    "    \n",
    "    ### Predict ###\n",
    "    \n",
    "    start_time = time.time()\n",
    "    predictions['uniform']  = dc_uniform.predict(x_test)\n",
    "    pred_times['uniform'] = time.time()-start_time\n",
    "    \n",
    "    start_time = time.time()\n",
    "    predictions['const_0']  = dc_const_0.predict(x_test)\n",
    "    pred_times['const_0'] = time.time()-start_time\n",
    "    \n",
    "    start_time = time.time()\n",
    "    predictions['const_1']  = dc_const_1.predict(x_test)\n",
    "    pred_times['const_1'] = time.time()-start_time\n",
    "    \n",
    "    start_time = time.time()\n",
    "    predictions['stratif']  = dc_stratif.predict(x_test)\n",
    "    pred_times['stratif'] = time.time()-start_time\n",
    "    \n",
    "    start_time = time.time()\n",
    "    predictions['frequent'] = dc_frequent.predict(x_test)\n",
    "    pred_times['frequent'] = time.time()-start_time\n",
    "\n",
    "    ### Score ###\n",
    "    \n",
    "    scores['uniform']  = dc_uniform.score(x_test, y_test)\n",
    "    scores['const_0']  = dc_const_0.score(x_test, y_test)\n",
    "    scores['const_1']  = dc_const_1.score(x_test, y_test)\n",
    "    scores['stratif']  = dc_stratif.score(x_test, y_test)\n",
    "    scores['frequent'] = dc_frequent.score(x_test,y_test)\n",
    "    \n",
    "    return predictions, scores, fit_times, pred_times"
   ]
  },
  {
   "cell_type": "code",
   "execution_count": 9,
   "metadata": {
    "colab": {
     "base_uri": "https://localhost:8080/",
     "height": 697
    },
    "colab_type": "code",
    "id": "V8HBx0nKtpEX",
    "outputId": "96b7692f-e522-41cc-b884-bae76b31dcaa",
    "scrolled": false
   },
   "outputs": [
    {
     "name": "stdout",
     "output_type": "stream",
     "text": [
      "Classification Accuracy of Dummy Classifiers for the test set:\n",
      "\n",
      "With uniform strategy: 48.931 %\n",
      "With const_0 strategy: 64.651 %\n",
      "With const_1 strategy: 35.349 %\n",
      "With stratif strategy: 49.334 %\n",
      "With frequent strategy: 64.651 %\n",
      "\n",
      "Confusion Matrices of Dummy Classifiers for the test set:\n",
      "\n",
      "With uniform strategy:\n",
      " [[1867 1822]\n",
      " [ 961 1056]]\n",
      "With const_0 strategy:\n",
      " [[3689    0]\n",
      " [2017    0]]\n",
      "With const_1 strategy:\n",
      " [[   0 3689]\n",
      " [   0 2017]]\n",
      "With stratif strategy:\n",
      " [[1850 1839]\n",
      " [1005 1012]]\n",
      "With frequent strategy:\n",
      " [[3689    0]\n",
      " [2017    0]]\n",
      "\n",
      "f1-micro average of uniform strategy: 0.5122677882930249\n",
      "f1-macro average of uniform strategy: 0.5022118469758436\n",
      "\n",
      "f1-micro average of const_0 strategy: 0.6465124430424115\n",
      "f1-macro average of const_0 strategy: 0.3926556679084619\n",
      "\n",
      "f1-micro average of const_1 strategy: 0.3534875569575885\n",
      "f1-macro average of const_1 strategy: 0.2611679399197203\n",
      "\n",
      "f1-micro average of stratif strategy: 0.501577287066246\n",
      "f1-macro average of stratif strategy: 0.4905899612860194\n",
      "\n",
      "f1-micro average of frequent strategy: 0.6465124430424115\n",
      "f1-macro average of frequent strategy: 0.3926556679084619\n"
     ]
    }
   ],
   "source": [
    "predictions, big_accuracies, _, _ = DummyClassification(x_train,y_train,x_test,y_test)\n",
    "\n",
    "print(\"Classification Accuracy of Dummy Classifiers for the test set:\\n\")\n",
    "for strategy in big_accuracies: print(\"With\",strategy,\"strategy:\",np.round(100*big_accuracies[strategy],3),\"%\")\n",
    "\n",
    "print(\"\\nConfusion Matrices of Dummy Classifiers for the test set:\\n\")\n",
    "for strategy in predictions: print(\"With\",strategy,\"strategy:\\n\",confusion_matrix(y_test,predictions[strategy]))\n",
    "\n",
    "for strategy in predictions:\n",
    "    print(\"\\nf1-micro average of\",strategy,\"strategy:\",f1_score(y_test,predictions[strategy], average='micro'))\n",
    "    print(\"f1-macro average of\",strategy,\"strategy:\",f1_score(y_test,predictions[strategy], average='macro'))\n",
    "    "
   ]
  },
  {
   "cell_type": "code",
   "execution_count": 10,
   "metadata": {
    "colab": {},
    "colab_type": "code",
    "id": "buFKwLqftpEa"
   },
   "outputs": [],
   "source": [
    "gnb = GaussianNB()\n",
    "gnb.fit(x_train,y_train)\n",
    "predictions['gnb'] = gnb.predict(x_test)\n",
    "big_accuracies['gnb'] = gnb.score(x_test,y_test)\n",
    "\n",
    "knn = KNeighborsClassifier(n_neighbors=1) \n",
    "knn.fit(x_train,y_train)\n",
    "predictions['knn'] = knn.predict(x_test)\n",
    "big_accuracies['knn'] = knn.score(x_test,y_test)\n",
    "\n",
    "mlp = MLPClassifier(solver='lbfgs',alpha=1e-5,hidden_layer_sizes=(10,2),random_state=1,max_iter=1000) \n",
    "mlp.fit(x_train,y_train)\n",
    "predictions['mlp'] = mlp.predict(x_test)\n",
    "big_accuracies['mlp'] = mlp.score(x_test,y_test)"
   ]
  },
  {
   "cell_type": "code",
   "execution_count": 11,
   "metadata": {
    "colab": {
     "base_uri": "https://localhost:8080/",
     "height": 476
    },
    "colab_type": "code",
    "id": "vRTp1wuttpEd",
    "outputId": "690779cb-471c-491a-ec38-5f442cc6c340"
   },
   "outputs": [
    {
     "name": "stdout",
     "output_type": "stream",
     "text": [
      "Classification Accuracy of GNB for the test set: 72.205 %\n",
      "\n",
      "Confusion Matrix of GNB for the test set:\n",
      " [[3317  372]\n",
      " [1214  803]]\n",
      "\n",
      "f1-micro average of GNB Classifier: 0.7220469681037505\n",
      "f1-macro average of GNB Classifier: 0.6550943965753802\n",
      "\n",
      "\n",
      "Classification Accuracy of 1-NN for the test set: 77.83 %\n",
      "\n",
      "Confusion Matrix of 1-NN for the test set:\n",
      " [[3189  500]\n",
      " [ 765 1252]]\n",
      "\n",
      "f1-micro average of 1-NN Classifier: 0.778303540133193\n",
      "f1-macro average of 1-NN Classifier: 0.7494281405630201\n",
      "\n",
      "\n",
      "Classification Accuracy of MLP for the test set: 66.158 %\n",
      "\n",
      "Confusion Matrix of MLP for the test set:\n",
      " [[3682    7]\n",
      " [1924   93]]\n",
      "\n",
      "f1-micro average of MLP Classifier: 0.6615842972309849\n",
      "f1-macro average of MLP Classifier: 0.4400570397227495\n"
     ]
    }
   ],
   "source": [
    "print(\"Classification Accuracy of GNB for the test set:\",np.round(100*big_accuracies['gnb'],3),\"%\")\n",
    "print(\"\\nConfusion Matrix of GNB for the test set:\\n\",confusion_matrix(y_test,predictions['gnb']))\n",
    "print(\"\\nf1-micro average of GNB Classifier:\",f1_score(y_test,predictions['gnb'], average='micro'))\n",
    "print(\"f1-macro average of GNB Classifier:\",f1_score(y_test,predictions['gnb'], average='macro'))\n",
    "print();print()\n",
    "\n",
    "print(\"Classification Accuracy of 1-NN for the test set:\",np.round(100*big_accuracies['knn'],3),\"%\")\n",
    "print(\"\\nConfusion Matrix of 1-NN for the test set:\\n\",confusion_matrix(y_test,predictions['knn']))\n",
    "print(\"\\nf1-micro average of 1-NN Classifier:\",f1_score(y_test,predictions['knn'], average='micro'))\n",
    "print(\"f1-macro average of 1-NN Classifier:\",f1_score(y_test,predictions['knn'], average='macro'))\n",
    "print();print()\n",
    "\n",
    "print(\"Classification Accuracy of MLP for the test set:\",np.round(100*big_accuracies['mlp'],3),\"%\")\n",
    "print(\"\\nConfusion Matrix of MLP for the test set:\\n\",confusion_matrix(y_test,predictions['mlp']))\n",
    "print(\"\\nf1-micro average of MLP Classifier:\",f1_score(y_test,predictions['mlp'], average='micro'))\n",
    "print(\"f1-macro average of MLP Classifier:\",f1_score(y_test,predictions['mlp'], average='macro'))"
   ]
  },
  {
   "cell_type": "markdown",
   "metadata": {
    "colab_type": "text",
    "id": "hNp4c3ystpEg"
   },
   "source": [
    "#### 2. Bar Plots"
   ]
  },
  {
   "cell_type": "code",
   "execution_count": 12,
   "metadata": {
    "colab": {
     "base_uri": "https://localhost:8080/",
     "height": 297
    },
    "colab_type": "code",
    "id": "HMdoWR57tpEh",
    "outputId": "73de085a-a6b2-44d2-9cad-aa6b79a2ef34"
   },
   "outputs": [
    {
     "data": {
      "image/png": "[encoded data removed]",
      "text/plain": [
       "<Figure size 432x288 with 1 Axes>"
      ]
     },
     "metadata": {
      "needs_background": "light"
     },
     "output_type": "display_data"
    }
   ],
   "source": [
    "f1_macros, f1_micros, labels = [],[],[]\n",
    "for clf in predictions:  \n",
    "    f1_micros.append(f1_score(y_test,predictions[clf],average='micro'))\n",
    "    f1_macros.append(f1_score(y_test,predictions[clf],average='macro'))\n",
    "    labels.append(clf)\n",
    "\n",
    "x = np.arange(len(labels))\n",
    "width = 0.25\n",
    "\n",
    "fig, ax = plt.subplots()\n",
    "rects1 = ax.bar(x - width/2, f1_micros, width, label='f1_micros')\n",
    "rects2 = ax.bar(x + width/2, f1_macros, width, label='f1_macros')\n",
    "\n",
    "ax.set_ylabel('Scores')\n",
    "ax.set_title('Performance Comparison on F1-Score')\n",
    "ax.set_xticks(x)\n",
    "ax.set_xticklabels(labels)\n",
    "ax.legend()\n",
    "\n",
    "fig.tight_layout()\n",
    "plt.show()"
   ]
  },
  {
   "cell_type": "markdown",
   "metadata": {
    "colab_type": "text",
    "id": "-5JytgYBtpEk"
   },
   "source": [
    "#### 3. Discussion"
   ]
  },
  {
   "cell_type": "code",
   "execution_count": 13,
   "metadata": {
    "colab": {
     "base_uri": "https://localhost:8080/",
     "height": 34
    },
    "colab_type": "code",
    "id": "X4FNzNBjtpEl",
    "outputId": "48043d12-435e-44de-e0dc-2ac095560f8a"
   },
   "outputs": [
    {
     "name": "stdout",
     "output_type": "stream",
     "text": [
      "The balance of the test set is 64.651 in favor of class 'g'.\n"
     ]
    }
   ],
   "source": [
    "print(\"The balance of the test set is\",round(100*len(y_test[y_test=='g'])/len(y_test),3),\"in favor of class 'g'.\")"
   ]
  },
  {
   "cell_type": "markdown",
   "metadata": {},
   "source": [
    "* Μεταξύ των dummy ταξινομητών, η καλύτερη στρατηγική είναι να διαλέγουμε πάντοτε την πιο συχνή κλάση (frequent) ή ισοδύναμα σταθερά την κλάση που είναι η πιο συχνή (constant-0), μιας και το test set δεν είναι ισορροπημένο, όπως φαίνεται παραπάνω.\n",
    "* Εαν δοκιμάσουμε πολλά runs, θα παρατηρήσουμε ότι η επιλογή stratified, δηλαδή να επιλέγουμε τυχαία κλάση διατηρώντας την κατανομή των κλάσεων στο training set, ενώ στη γενική περίπτωση δίνει καλύτερα αποτελέσματα από τη random επιλογή, στη προκειμένη, λόγω της ισορροπίας του train dataset, οι δύο μέθοδοι είναι ισοδύναμες. \n",
    "* Ο k-NN ταξινομητής δίνει καλύτερο αποτέλεσμα από τους dummy classifiers, αφού βασίζεται σε έναν αλγόριθμο λογικής ανάλυσης των δεδομένων. Επιπλέον λόγω του εκτενούς μεγέθους του test dataset, το αποτέλεσμα του ταξινομητή είναι ικανοποιητικό.\n",
    "* Ο Naive Bayes εμφανίζει επίσης βελτιωμένα αποτελέσματα συγκριτικά με τους dummy ταξινομητές, αλλά όχι καλύτερα από τον kNN. Αυτό οφείλεται στις \"αφελείς\" παραδοχές του συγκεκριμένου ταξινομήτη, όπως το ότι υποθέτει κανονική κατανομή των features και ανεξαρτησία μεταξύ τους.\n",
    "* Τέλος, ο MLP εμφανίζει την χαμηλότερη επίδοση από τους non-Dummy ταξινομητές. Ο συγκεκριμένος ταξινομητής λαμβάνει πληθώρα παραμέτρων, η βελτιστοποίηση των οποίων θα οδηγήσει σε πιο ικανοποιητικό αποτέλεσμα. Επομένως, λόγω της επιλογής απλοϊκού συνδυασμού παραμέτρων, το ποσοστό είναι μέτριο αλλά παραμένει υψηλότερο από τους Dummy ταξινομητές."
   ]
  },
  {
   "cell_type": "markdown",
   "metadata": {
    "colab_type": "text",
    "id": "TucfBYivtpEq"
   },
   "source": [
    "### D. Optimization of Classifiers\n",
    "\n",
    "Θα ακολουθήσουμε bottom-up λογική όπως στο small notebook. Για την εύρεση των βέλτιστων υπερπαραμέτρων θα διαχωρίσουμε το dataset σε 70% train και 30% test και θα χρησιμοποιήσουμε 5-fold cross validation για να εκτιμήσουμε τις παραμέτρους μόνο από το train set. Συγκεκριμένα, αφού γίνει η απαραίτητη προεπεξεργασία ολόκληρου του set, αυτό θα χωριστεί σε 5 subsets, καθένα από τα οποία θα δοκιμαστεί σαν validation set. Στη συνέχεια, οι παράμετροι θα δώσουν το καλύτερο cross score θα εφαρμοστούν προκειμένου να κάνουμε το τελικό prediction για το αρχικό μας test set."
   ]
  },
  {
   "cell_type": "markdown",
   "metadata": {
    "colab_type": "text",
    "id": "FcQLlOJatpEs"
   },
   "source": [
    "#### 1-2. Pre-Processing - Optimization and Execution Time\n",
    "\n",
    "Για αρχή θα τρέξουμε πάλι τους dummy classifiers καθώς και τον Gaussian Naive Bayes, οι οποίοι δεν επηρεάζονται από το processing που θα ακολουθήσουμε. Αυτή τη φορά θα κάνουμε και track των χρόνων για fit και predict:"
   ]
  },
  {
   "cell_type": "code",
   "execution_count": 14,
   "metadata": {
    "colab": {
     "base_uri": "https://localhost:8080/",
     "height": 1000
    },
    "colab_type": "code",
    "id": "TAuaN-8ktpE9",
    "outputId": "62a40a4d-4a6e-483f-f4a9-0a25fa0bc5f3"
   },
   "outputs": [
    {
     "name": "stdout",
     "output_type": "stream",
     "text": [
      "Classification Accuracy of Dummy Classifiers for the test set:\n",
      "\n",
      "With uniform strategy: 50.123 %\n",
      "With const_0 strategy: 64.651 %\n",
      "With const_1 strategy: 35.349 %\n",
      "With stratif strategy: 50.368 %\n",
      "With frequent strategy: 64.651 %\n",
      "With gnb strategy: 72.205 %\n",
      "\n",
      "Confusion Matrices of Dummy Classifiers for the test set:\n",
      "\n",
      "With uniform strategy:\n",
      " [[1853 1836]\n",
      " [1009 1008]]\n",
      "With const_0 strategy:\n",
      " [[3689    0]\n",
      " [2017    0]]\n",
      "With const_1 strategy:\n",
      " [[   0 3689]\n",
      " [   0 2017]]\n",
      "With stratif strategy:\n",
      " [[1820 1869]\n",
      " [1016 1001]]\n",
      "With frequent strategy:\n",
      " [[3689    0]\n",
      " [2017    0]]\n",
      "With gnb strategy:\n",
      " [[3317  372]\n",
      " [1214  803]]\n",
      "\n",
      "f1-micro average of uniform strategy: 0.5014020329477743\n",
      "f1-macro average of uniform strategy: 0.4902223187610536\n",
      "\n",
      "f1-micro average of const_0 strategy: 0.6465124430424115\n",
      "f1-macro average of const_0 strategy: 0.3926556679084619\n",
      "\n",
      "f1-micro average of const_1 strategy: 0.3534875569575885\n",
      "f1-macro average of const_1 strategy: 0.2611679399197203\n",
      "\n",
      "f1-micro average of stratif strategy: 0.4943918682089029\n",
      "f1-macro average of stratif strategy: 0.48375634159593006\n",
      "\n",
      "f1-micro average of frequent strategy: 0.6465124430424115\n",
      "f1-macro average of frequent strategy: 0.3926556679084619\n",
      "\n",
      "f1-micro average of gnb strategy: 0.7220469681037505\n",
      "f1-macro average of gnb strategy: 0.6550943965753802\n",
      "\n",
      "Fit and Predict duration of Dummy Classifiers in secs:\n",
      "\n",
      "Fitting time for uniform strategy: 0.0199737548828125\n",
      "Predict time for uniform strategy: 0.002454996109008789 \n",
      "\n",
      "Fitting time for const_0 strategy: 0.019029855728149414\n",
      "Predict time for const_0 strategy: 0.0004839897155761719 \n",
      "\n",
      "Fitting time for const_1 strategy: 0.020609140396118164\n",
      "Predict time for const_1 strategy: 0.0003237724304199219 \n",
      "\n",
      "Fitting time for stratif strategy: 0.024369478225708008\n",
      "Predict time for stratif strategy: 0.0014219284057617188 \n",
      "\n",
      "Fitting time for frequent strategy: 0.025705337524414062\n",
      "Predict time for frequent strategy: 0.0003802776336669922 \n",
      "\n"
     ]
    }
   ],
   "source": [
    "npredictions, nbig_accuracies, fit_times, pred_times = DummyClassification(x_train,y_train,x_test,y_test)\n",
    "\n",
    "npredictions['gnb'] = predictions['gnb']\n",
    "nbig_accuracies['gnb'] = big_accuracies['gnb']\n",
    "\n",
    "print(\"Classification Accuracy of Dummy Classifiers for the test set:\\n\")\n",
    "for strategy in nbig_accuracies: print(\"With\",strategy,\"strategy:\",np.round(100*nbig_accuracies[strategy],3),\"%\")\n",
    "\n",
    "print(\"\\nConfusion Matrices of Dummy Classifiers for the test set:\\n\")\n",
    "for strategy in npredictions: print(\"With\",strategy,\"strategy:\\n\",confusion_matrix(y_test,npredictions[strategy]))\n",
    "\n",
    "for strategy in npredictions:\n",
    "    print(\"\\nf1-micro average of\",strategy,\"strategy:\",f1_score(y_test,npredictions[strategy], average='micro'))\n",
    "    print(\"f1-macro average of\",strategy,\"strategy:\",f1_score(y_test,npredictions[strategy], average='macro'))\n",
    "    \n",
    "print(\"\\nFit and Predict duration of Dummy Classifiers in secs:\\n\")\n",
    "for strategy in fit_times:\n",
    "    print(\"Fitting time for\",strategy,\"strategy:\",fit_times[strategy])\n",
    "    print(\"Predict time for\",strategy,\"strategy:\",pred_times[strategy],\"\\n\")"
   ]
  },
  {
   "cell_type": "markdown",
   "metadata": {},
   "source": [
    "Βλέπουμε, όπως και στο small notebook πως το fitting διαρκεί πολύ περισσότερο από το prediction. Ορίζουμε τώρα μία συνάρτηση που θα χρησιμοποιήσουμε, όπως και στο small για την εκτέλεση του PCA:"
   ]
  },
  {
   "cell_type": "code",
   "execution_count": 15,
   "metadata": {
    "colab": {},
    "colab_type": "code",
    "id": "p6bJtBPw5iRz"
   },
   "outputs": [],
   "source": [
    "def applyPCA(data,num=len(data[0])):\n",
    "    pca = PCA(n_components=num)\n",
    "    return pca.fit_transform(data)"
   ]
  },
  {
   "cell_type": "markdown",
   "metadata": {},
   "source": [
    "Αρχικοποιούμε τους εκτιμητές χωρίς παραμέτρους:"
   ]
  },
  {
   "cell_type": "code",
   "execution_count": 16,
   "metadata": {
    "colab": {},
    "colab_type": "code",
    "id": "OrwlvcgjtpE0"
   },
   "outputs": [],
   "source": [
    "selector = VarianceThreshold() # by default removes zero variance elements\n",
    "m_scaler = MinMaxScaler()\n",
    "pca = PCA()\n",
    "clf = KNeighborsClassifier(n_jobs=-1) # uses all available cores\n",
    "mlp = MLPClassifier()"
   ]
  },
  {
   "cell_type": "markdown",
   "metadata": {
    "colab_type": "text",
    "id": "AD0Lli4Un5yU"
   },
   "source": [
    "Η διαδικασία εύρεσης των βέλτιστων υπερπαραμέτρων είναι εκ γενετής μια χρονοβόρα και επαναληπτική διαδικασία πειραματισμών. Για αυτό το λόγο θα εκμεταλλευτούμε το μεγάλο μέγεθος του dataset και θα χρησιμοποιήσουμε μόνο ένα υποσύνολο των διαθέσιμων δειγμάτων, μέσω sampling:"
   ]
  },
  {
   "cell_type": "code",
   "execution_count": 17,
   "metadata": {
    "colab": {
     "base_uri": "https://localhost:8080/",
     "height": 51
    },
    "colab_type": "code",
    "id": "8z_T-srzn4xK",
    "outputId": "048a10b4-792b-4823-96a4-ab4e363b78da"
   },
   "outputs": [],
   "source": [
    "x_train_copy = x_train\n",
    "y_train_copy = y_train\n",
    "x_test_copy  = x_test\n",
    "y_test_copy  = y_test\n",
    "\n",
    "x_train_sample, y_train_sample = shuffle(x_train, y_train, random_state=3)\n",
    "x_train_sample = x_train_sample[0:2000,:]\n",
    "y_train_sample = y_train_sample[0:2000]"
   ]
  },
  {
   "cell_type": "markdown",
   "metadata": {
    "colab_type": "text",
    "id": "4c-0GPgUss1M"
   },
   "source": [
    "Μπορούμε τώρα να προσχωρήσουμε στην εύρεση των βέλτιστων παραμέτρων των μοντέλων μας. Θα εξετάσουμε χωριστά τις παραμέτρους των ταξινομητών MLP και k-NN καθώς ο Gaussian Naive Bayes δε διαθέτει παραμέτρους προς βελτιστοποίηση. Επίσης, επιλέγουμε να μην κάνουμε feature selection καθώς ο αριθμός των features είναι ήδη αρκετά μικρός σε σύγκριση με την ποσότητα των δεδομένων. Ξεκινάμε με τον k-NN classifier:"
   ]
  },
  {
   "cell_type": "code",
   "execution_count": 18,
   "metadata": {
    "colab": {
     "base_uri": "https://localhost:8080/",
     "height": 68
    },
    "colab_type": "code",
    "id": "kIripiFdtpE2",
    "outputId": "a76db496-e922-47d3-ce03-d828e5689925"
   },
   "outputs": [],
   "source": [
    "n_components = np.arange(1,11)\n",
    "k = np.arange(1,50,5)\n",
    "knn_weights = ['uniform','distance']\n",
    "knn_metrics = ['euclidean','manhattan','chebyshev']"
   ]
  },
  {
   "cell_type": "markdown",
   "metadata": {
    "colab_type": "text",
    "id": "vkOLARYeskW0"
   },
   "source": [
    "Μπορούμε πλέον να στήσουμε το Pipeline για το classification των δεδομένων μας. Θα επιλέξουμε MinMax scaler:"
   ]
  },
  {
   "cell_type": "code",
   "execution_count": 19,
   "metadata": {
    "colab": {},
    "colab_type": "code",
    "id": "dr8tTO-GiSc9"
   },
   "outputs": [
    {
     "name": "stdout",
     "output_type": "stream",
     "text": [
      "Fitting 5 folds for each of 600 candidates, totalling 3000 fits\n"
     ]
    },
    {
     "name": "stderr",
     "output_type": "stream",
     "text": [
      "[Parallel(n_jobs=-1)]: Using backend LokyBackend with 4 concurrent workers.\n",
      "[Parallel(n_jobs=-1)]: Done  42 tasks      | elapsed:   22.7s\n",
      "[Parallel(n_jobs=-1)]: Done 192 tasks      | elapsed:   45.5s\n",
      "[Parallel(n_jobs=-1)]: Done 442 tasks      | elapsed:  1.4min\n",
      "[Parallel(n_jobs=-1)]: Done 792 tasks      | elapsed:  2.3min\n",
      "[Parallel(n_jobs=-1)]: Done 1242 tasks      | elapsed:  3.5min\n",
      "[Parallel(n_jobs=-1)]: Done 1792 tasks      | elapsed:  5.0min\n",
      "[Parallel(n_jobs=-1)]: Done 2442 tasks      | elapsed:  6.8min\n",
      "[Parallel(n_jobs=-1)]: Done 3000 out of 3000 | elapsed:  8.3min finished\n"
     ]
    },
    {
     "name": "stdout",
     "output_type": "stream",
     "text": [
      "Συνολικός χρόνος fit και predict: 499.81396865844727 seconds\n",
      "Best parameters {'kNN__metric': 'manhattan', 'kNN__n_neighbors': 6, 'kNN__weights': 'distance', 'pca__n_components': 10}\n"
     ]
    }
   ],
   "source": [
    "pipe = Pipeline(steps=[('scaler', m_scaler),('selector', selector),('pca', pca),('kNN', clf)], memory = 'tmp')\n",
    "estimator_knn = GridSearchCV(pipe, dict(pca__n_components = n_components,\n",
    "                                        kNN__n_neighbors = k,\n",
    "                                        kNN__weights = knn_weights,\n",
    "                                        kNN__metric = knn_metrics), cv=5, scoring='f1_macro', n_jobs=-1,verbose=1)\n",
    "\n",
    "start_time = time.time()\n",
    "estimator_knn.fit(x_train_sample,y_train_sample)\n",
    "preds = estimator_knn.predict(x_test)\n",
    "print(\"Συνολικός χρόνος fit και predict: %s seconds\" % (time.time()-start_time))\n",
    "print(\"Best parameters\",estimator_knn.best_params_)"
   ]
  },
  {
   "cell_type": "markdown",
   "metadata": {},
   "source": [
    "Έχοντας εξάγει παραμέτρους για ένα μικρό δείγμα του train set, επαναλαμβάνουμε την διαδικασία για όλο το dataset με πολύ μικρότερο εύρος παραμέτρων:"
   ]
  },
  {
   "cell_type": "code",
   "execution_count": 21,
   "metadata": {},
   "outputs": [],
   "source": [
    "n_components = np.arange(9,11)\n",
    "k = np.arange(3,9)\n",
    "knn_weights = ['distance']\n",
    "knn_metrics = ['manhattan']"
   ]
  },
  {
   "cell_type": "code",
   "execution_count": 23,
   "metadata": {},
   "outputs": [
    {
     "name": "stdout",
     "output_type": "stream",
     "text": [
      "Fitting 5 folds for each of 12 candidates, totalling 60 fits\n"
     ]
    },
    {
     "name": "stderr",
     "output_type": "stream",
     "text": [
      "[Parallel(n_jobs=-1)]: Using backend LokyBackend with 4 concurrent workers.\n",
      "[Parallel(n_jobs=-1)]: Done  42 tasks      | elapsed:  1.0min\n",
      "[Parallel(n_jobs=-1)]: Done  60 out of  60 | elapsed:  1.3min finished\n"
     ]
    },
    {
     "name": "stdout",
     "output_type": "stream",
     "text": [
      "Συνολικός χρόνος fit και predict: 82.72279739379883 seconds\n",
      "Best parameters {'kNN__metric': 'manhattan', 'kNN__n_neighbors': 8, 'kNN__weights': 'distance', 'pca__n_components': 10}\n"
     ]
    }
   ],
   "source": [
    "pipe = Pipeline(steps=[('scaler', m_scaler),('selector', selector),('pca', pca),('kNN', clf)], memory = 'tmp')\n",
    "estimator_knn = GridSearchCV(pipe, dict(pca__n_components = n_components,\n",
    "                                        kNN__n_neighbors = k,\n",
    "                                        kNN__weights = knn_weights,\n",
    "                                        kNN__metric = knn_metrics), cv=5, scoring='f1_macro', n_jobs=-1,verbose=1)\n",
    "\n",
    "start_time = time.time()\n",
    "estimator_knn.fit(x_train,y_train)\n",
    "print(\"Συνολικός χρόνος fit και predict: %s seconds\" % (time.time()-start_time))\n",
    "print(\"Best parameters\",estimator_knn.best_params_)"
   ]
  },
  {
   "cell_type": "markdown",
   "metadata": {
    "colab_type": "text",
    "id": "7tBPKhtyzupw"
   },
   "source": [
    "Εφαρμόζουμε τώρα τις βέλτιστες παραμέτρους για να εκπαιδεύσουμε το train set στον k-NN:"
   ]
  },
  {
   "cell_type": "code",
   "execution_count": 24,
   "metadata": {
    "colab": {
     "base_uri": "https://localhost:8080/",
     "height": 85
    },
    "colab_type": "code",
    "id": "Xc6CBUjYtzrA",
    "outputId": "01cd5263-a645-4930-d12a-0c0181dd17d2"
   },
   "outputs": [
    {
     "name": "stdout",
     "output_type": "stream",
     "text": [
      "Classification Accuracy of k-NN: 79.811 %\n",
      "\n",
      "Confusion Matrix of k-NN:\n",
      " [[3021  668]\n",
      " [ 484 1533]]\n",
      "\n",
      "Classification Report of k-NN:\n",
      "               precision    recall  f1-score   support\n",
      "\n",
      "           g       0.86      0.82      0.84      3689\n",
      "           h       0.70      0.76      0.73      2017\n",
      "\n",
      "    accuracy                           0.80      5706\n",
      "   macro avg       0.78      0.79      0.78      5706\n",
      "weighted avg       0.80      0.80      0.80      5706\n",
      "\n"
     ]
    }
   ],
   "source": [
    "x_train_copy = m_scaler.fit_transform(x_train)\n",
    "x_test_copy = m_scaler.fit_transform(x_test)\n",
    "\n",
    "x_train_copy = applyPCA(x_train_copy, estimator_knn.best_params_['pca__n_components'])\n",
    "x_test_copy = applyPCA(x_test_copy, estimator_knn.best_params_['pca__n_components'])\n",
    "\n",
    "knn = KNeighborsClassifier(n_neighbors = estimator_knn.best_params_['kNN__n_neighbors'],\n",
    "                           metric = estimator_knn.best_params_['kNN__metric'],\n",
    "                           weights = estimator_knn.best_params_['kNN__weights'])                             \n",
    "\n",
    "start_time = time.time()\n",
    "knn.fit(x_train_copy,y_train_copy)\n",
    "fit_times['knn'] = time.time()-start_time\n",
    "\n",
    "start_time = time.time()\n",
    "npredictions['knn'] = knn.predict(x_test_copy)\n",
    "pred_times['knn'] = time.time()-start_time\n",
    "\n",
    "nbig_accuracies['knn'] = knn.score(x_test_copy,y_test)\n",
    "\n",
    "print(\"Classification Accuracy of k-NN:\",np.round(100*nbig_accuracies['knn'],3),\"%\")\n",
    "print(\"\\nConfusion Matrix of k-NN:\\n\",confusion_matrix(y_test,npredictions['knn']))\n",
    "print(\"\\nClassification Report of k-NN:\\n\",classification_report(y_test,npredictions['knn']))"
   ]
  },
  {
   "cell_type": "markdown",
   "metadata": {
    "colab_type": "text",
    "id": "cEkkwHzULXjK"
   },
   "source": [
    "Για τον MLP ακολουθούμε την ίδια προσέγγιση. Επειδή εδώ έχουμε περισσότερες παραμέτρους και το grid search θα είναι χρονοβόρο, θα δοκιμάσουμε να προσεγγίσουμε τις βέλτιστες τιμές σε περισσότερα σε 2 στάδια. Εδω παραθέτουμε το δεύτερο, αφού έχουμε προσδιορίσει τις διακριτές τιμές. Τα υπόλοιπα τρεξίματα παραλείπονται καθώς και μόνο η επανεκτέλεση προκειμένου να ολοκληρωθεί το notebook μπορεί να τρέχει υπερβολικά πολλές ώρες."
   ]
  },
  {
   "cell_type": "code",
   "execution_count": 29,
   "metadata": {
    "colab": {
     "base_uri": "https://localhost:8080/",
     "height": 51
    },
    "colab_type": "code",
    "id": "8usPe7Kky2jA",
    "outputId": "88e6b153-a2c5-4977-8f3f-6a7cb5621d2a"
   },
   "outputs": [],
   "source": [
    "mlp_hidden_layers = [(i,2) for i in range(8,256,64)]\n",
    "mlp_activation = ['logistic']    # ['logistic','identity','tanh','relu']\n",
    "mlp_solver = ['lbfgs']           # ['lbfgs', 'sgd', 'adam']\n",
    "mlp_max_iter = np.arange(50,400,100)\n",
    "mlp_learning_rate = ['constant'] # ['constant', 'invscaling', 'adaptive']\n",
    "alpha = np.geomspace(1e-8,1e-3,5)\n",
    "n_components = np.arange(8,11)"
   ]
  },
  {
   "cell_type": "markdown",
   "metadata": {
    "colab_type": "text",
    "id": "DXEHv-36tSeZ"
   },
   "source": [
    "Ορίζουμε το Pipeline:"
   ]
  },
  {
   "cell_type": "code",
   "execution_count": 30,
   "metadata": {
    "colab": {},
    "colab_type": "code",
    "id": "Hjt6Wg2WtPX7"
   },
   "outputs": [
    {
     "name": "stdout",
     "output_type": "stream",
     "text": [
      "Fitting 5 folds for each of 240 candidates, totalling 1200 fits\n"
     ]
    },
    {
     "name": "stderr",
     "output_type": "stream",
     "text": [
      "[Parallel(n_jobs=-1)]: Using backend LokyBackend with 4 concurrent workers.\n",
      "[Parallel(n_jobs=-1)]: Done  42 tasks      | elapsed:   11.8s\n",
      "[Parallel(n_jobs=-1)]: Done 192 tasks      | elapsed:  2.5min\n",
      "[Parallel(n_jobs=-1)]: Done 442 tasks      | elapsed:  6.5min\n",
      "[Parallel(n_jobs=-1)]: Done 792 tasks      | elapsed: 11.5min\n",
      "[Parallel(n_jobs=-1)]: Done 1200 out of 1200 | elapsed: 18.5min finished\n"
     ]
    },
    {
     "name": "stdout",
     "output_type": "stream",
     "text": [
      "Συνολικός χρόνος fit και predict: 1120.19082570076 seconds\n",
      "Best parameters {'mlp__activation': 'logistic', 'mlp__alpha': 3.162277660168379e-06, 'mlp__hidden_layer_sizes': (136, 2), 'mlp__learning_rate': 'constant', 'mlp__max_iter': 350, 'mlp__solver': 'lbfgs', 'pca__n_components': 10}\n"
     ]
    },
    {
     "name": "stderr",
     "output_type": "stream",
     "text": [
      "/home/klean/miniconda3/lib/python3.7/site-packages/sklearn/neural_network/_multilayer_perceptron.py:470: ConvergenceWarning: lbfgs failed to converge (status=1):\n",
      "STOP: TOTAL NO. of ITERATIONS REACHED LIMIT.\n",
      "\n",
      "Increase the number of iterations (max_iter) or scale the data as shown in:\n",
      "    https://scikit-learn.org/stable/modules/preprocessing.html.\n",
      "  self.n_iter_ = _check_optimize_result(\"lbfgs\", opt_res, self.max_iter)\n"
     ]
    }
   ],
   "source": [
    "pipe = Pipeline(steps=[('scaler', m_scaler),('selector', selector),('pca', pca),('mlp', mlp)], memory = 'tmp')\n",
    "estimator_mlp = GridSearchCV(pipe, dict(pca__n_components = n_components,\n",
    "                                            mlp__hidden_layer_sizes=mlp_hidden_layers,\n",
    "                                            mlp__activation=mlp_activation,\n",
    "                                            mlp__solver=mlp_solver,\n",
    "                                            mlp__alpha=alpha,\n",
    "                                            mlp__learning_rate=mlp_learning_rate,\n",
    "                                            mlp__max_iter=mlp_max_iter), cv=5, scoring='f1_macro', n_jobs=-1,\n",
    "                                                                                                   verbose=1)\n",
    "\n",
    "start_time = time.time()\n",
    "estimator_mlp.fit(x_train_sample,y_train_sample)\n",
    "preds = estimator_mlp.predict(x_test)\n",
    "print(\"Συνολικός χρόνος fit και predict: %s seconds\" % (time.time()-start_time))\n",
    "print(\"Best parameters\",estimator_mlp.best_params_)"
   ]
  },
  {
   "cell_type": "markdown",
   "metadata": {
    "colab_type": "text",
    "id": "e7NJTW_3zQ_6"
   },
   "source": [
    "Έχοντας εντοπίσει τις βέλτιστες παραμέτρους για ένα μικρό δείγμα του train dataset, μπορούμε να επαναλάβουμε την διαδικασία για όλο το dataset με πολύ μικρότερο εύρος παραμέτρων, ωστόσο αυτό είναι αρκετά χρονοβόρο (20000 δείγματα) και με βάση τα παραπάνω αποτελέσματα και το είδος των παραμέτρων, δεν περιμένουμε σημαντική μεταβολή των αποτελεσμάτων. Συνεπώς, εφαρμόζουμε τις βέλτιστες παραμέτρους για να εκπαιδεύσουμε το MLP:"
   ]
  },
  {
   "cell_type": "code",
   "execution_count": 31,
   "metadata": {},
   "outputs": [
    {
     "name": "stderr",
     "output_type": "stream",
     "text": [
      "/home/klean/miniconda3/lib/python3.7/site-packages/sklearn/neural_network/_multilayer_perceptron.py:470: ConvergenceWarning: lbfgs failed to converge (status=1):\n",
      "STOP: TOTAL NO. of ITERATIONS REACHED LIMIT.\n",
      "\n",
      "Increase the number of iterations (max_iter) or scale the data as shown in:\n",
      "    https://scikit-learn.org/stable/modules/preprocessing.html.\n",
      "  self.n_iter_ = _check_optimize_result(\"lbfgs\", opt_res, self.max_iter)\n"
     ]
    },
    {
     "name": "stdout",
     "output_type": "stream",
     "text": [
      "Classification Accuracy of MLP: 77.936 %\n",
      "\n",
      "Confusion Matrix of MLP:\n",
      " [[2799  890]\n",
      " [ 369 1648]]\n",
      "\n",
      "Classification Report of MLP:\n",
      "               precision    recall  f1-score   support\n",
      "\n",
      "           g       0.88      0.76      0.82      3689\n",
      "           h       0.65      0.82      0.72      2017\n",
      "\n",
      "    accuracy                           0.78      5706\n",
      "   macro avg       0.77      0.79      0.77      5706\n",
      "weighted avg       0.80      0.78      0.78      5706\n",
      "\n"
     ]
    }
   ],
   "source": [
    "x_train_copy = m_scaler.fit_transform(x_train)\n",
    "x_test_copy = m_scaler.fit_transform(x_test)\n",
    "\n",
    "x_train_copy = applyPCA(x_train_copy, estimator_mlp.best_params_['pca__n_components'])\n",
    "x_test_copy = applyPCA(x_test_copy, estimator_mlp.best_params_['pca__n_components'])\n",
    "\n",
    "mlp = MLPClassifier(solver=estimator_mlp.best_params_['mlp__solver'],\n",
    "                    alpha=estimator_mlp.best_params_['mlp__alpha'],\n",
    "                    hidden_layer_sizes=estimator_mlp.best_params_['mlp__hidden_layer_sizes'],\n",
    "                    random_state=1,\n",
    "                    activation=estimator_mlp.best_params_['mlp__activation'],\n",
    "                    learning_rate=estimator_mlp.best_params_['mlp__learning_rate'],\n",
    "                    max_iter=estimator_mlp.best_params_['mlp__max_iter']) \n",
    "\n",
    "start_time = time.time()\n",
    "mlp.fit(x_train_copy,y_train_copy)\n",
    "fit_times['mlp'] = time.time()-start_time\n",
    "\n",
    "start_time = time.time()\n",
    "npredictions['mlp'] = mlp.predict(x_test_copy)\n",
    "pred_times['mlp'] = time.time()-start_time\n",
    "\n",
    "nbig_accuracies['mlp'] = mlp.score(x_test_copy,y_test)\n",
    "\n",
    "print(\"Classification Accuracy of MLP:\",np.round(100*nbig_accuracies['mlp'],3),\"%\")\n",
    "print(\"\\nConfusion Matrix of MLP:\\n\",confusion_matrix(y_test,npredictions['mlp']))\n",
    "print(\"\\nClassification Report of MLP:\\n\",classification_report(y_test,npredictions['mlp']))"
   ]
  },
  {
   "cell_type": "markdown",
   "metadata": {
    "colab_type": "text",
    "id": "qmgM2SlntpFD"
   },
   "source": [
    "#### 3. Bar Plots"
   ]
  },
  {
   "cell_type": "code",
   "execution_count": 32,
   "metadata": {
    "colab": {
     "base_uri": "https://localhost:8080/",
     "height": 297
    },
    "colab_type": "code",
    "id": "hCVDmyrktpFE",
    "outputId": "1ab96b92-1e0d-41b2-cb3f-4a3687e926da"
   },
   "outputs": [
    {
     "data": {
      "image/png": "[encoded data removed]",
      "text/plain": [
       "<Figure size 432x288 with 1 Axes>"
      ]
     },
     "metadata": {
      "needs_background": "light"
     },
     "output_type": "display_data"
    }
   ],
   "source": [
    "f1_macros, f1_micros, labels = [],[],[]\n",
    "for clf in npredictions:  \n",
    "    f1_micros.append(f1_score(y_test,npredictions[clf],average='micro'))\n",
    "    f1_macros.append(f1_score(y_test,npredictions[clf],average='macro'))\n",
    "    labels.append(clf)\n",
    "\n",
    "x = np.arange(len(labels))\n",
    "width = 0.25\n",
    "\n",
    "fig, ax = plt.subplots()\n",
    "rects1 = ax.bar(x - width/2, f1_micros, width, label='f1_micros')\n",
    "rects2 = ax.bar(x + width/2, f1_macros, width, label='f1_macros')\n",
    "\n",
    "ax.set_ylabel('Scores')\n",
    "ax.set_title('Performance Comparison on F1-Score')\n",
    "ax.set_xticks(x)\n",
    "ax.set_xticklabels(labels)\n",
    "ax.legend()\n",
    "\n",
    "fig.tight_layout()\n",
    "plt.show()"
   ]
  },
  {
   "cell_type": "markdown",
   "metadata": {
    "colab_type": "text",
    "id": "hTFasCUZtpFG"
   },
   "source": [
    "#### 4. Optimization Table"
   ]
  },
  {
   "cell_type": "code",
   "execution_count": 33,
   "metadata": {
    "colab": {
     "base_uri": "https://localhost:8080/",
     "height": 153
    },
    "colab_type": "code",
    "id": "Bbepf_59tpFH",
    "outputId": "8bea337f-7ee4-4fe0-f8e7-47361161f2eb"
   },
   "outputs": [
    {
     "name": "stdout",
     "output_type": "stream",
     "text": [
      "Improvement for uniform : 0.01191728005608128\n",
      "Improvement for const_0 : 0.0\n",
      "Improvement for const_1 : 0.0\n",
      "Improvement for stratif : 0.010339992989835234\n",
      "Improvement for frequent : 0.0\n",
      "Improvement for gnb : 0.0\n",
      "Improvement for knn : 0.019803715387311627\n",
      "Improvement for mlp : 0.11777076761303895\n"
     ]
    }
   ],
   "source": [
    "for clf in nbig_accuracies: print(\"Improvement for\",clf,\":\",nbig_accuracies[clf]-big_accuracies[clf])"
   ]
  },
  {
   "cell_type": "markdown",
   "metadata": {
    "colab_type": "text",
    "id": "ISLan-aPtpFK"
   },
   "source": [
    "#### 5. Discussion\n",
    "\n",
    "Όπως περιγράψαμε παραπάνω, ακολουθήσαμε μια bottom-up λογική για να επιλέξουμε τις βέλτιστες υπερπαραμέτρους pre-processing και training του dataset, ούτως ώστε να αυξήσουμε το accuracy της ταξινόμησης. Τα αποτελέσματα προφανώς είναι ταυτόσημα για τους dummy classifiers και τον Naive Bayes, οι οποίοι ταξινομητές δεν έχουν παραμέτρους προς βελτιστοποίηση. Aπό την άλλη, παρατηρούμε, όπως φαίνεται και στον optimization table, πως το tuning καταφέρνει να βελτιώσει αισθητά την επίδοση τόσο του k-NN όσο κυρίως του MLP Classifier που είχε και τις περισσότερες διαθέσιμες υπερπαραμέτρους (+11%). Όσον αφορά το classification accuracy, το καλύτερο ποσοστό το πετυχαίνει ο k-NN ο οποίος συνιστά πράγματι ένα ικανοποιητικό μοντέλο για το συγκεκριμένο task, με ποσοστό επιτυχίας κοντά στο 80%."
   ]
  }
 ],
 "metadata": {
  "accelerator": "GPU",
  "colab": {
   "name": "MB4-B01(ntinos).ipynb",
   "provenance": []
  },
  "kernelspec": {
   "display_name": "Python 3",
   "language": "python",
   "name": "python3"
  },
  "language_info": {
   "codemirror_mode": {
    "name": "ipython",
    "version": 3
   },
   "file_extension": ".py",
   "mimetype": "text/x-python",
   "name": "python",
   "nbconvert_exporter": "python",
   "pygments_lexer": "ipython3",
   "version": "3.7.3"
  }
 },
 "nbformat": 4,
 "nbformat_minor": 1
}
